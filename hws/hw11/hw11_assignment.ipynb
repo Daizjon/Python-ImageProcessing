{
 "cells": [
  {
   "cell_type": "markdown",
   "id": "419560c8",
   "metadata": {},
   "source": [
    "# HW11 Spectral Filtering: Butterworth Notch Filter\n",
    "\n",
    "\n",
    "A notch filter suppresses specific frequencies. Letting $d_0$ denote the notch frequency cut-off distance (-3dB), and $d^+_{uv}$ and $d^-_{uv}$ the Euclidian distances from $(u,v)$ to the two notches $(u_0,v_0)$ and $(-u_0,-v_0)$, i.e., $d^+_{uv} = \\sqrt{(u-u_0)^2+(v-v_0)^2}$ and $d^-_{uv} = \\sqrt{(u+u_0)^2+(v+v_0)^2}$,\n",
    "we can define the notch filter transfer function as the product of two shifted $n$-order high-pass filters.\n",
    "That is,\n",
    "\n",
    "$$H_{N}(u,v) = H^+_{N}(u,v)\\; H^-_{N}(u,v)$$\n",
    "\n",
    "$$H^+_{N}(u,v) = \\dfrac{1}{\\sqrt{1 + \\left( d_0\\,/\\,d^+_{uv} \\right)^{2n}}}, \\quad\n",
    "  H^-_{N}(u,v) = \\dfrac{1}{\\sqrt{1 + \\left( d_0\\,/\\,d^-_{uv} \\right)^{2n}}}.$$\n",
    "\n",
    "Multiple frequencies can be rejected by multiplying the corresponding transfer functions. We will not consider that here. NOTE: The above will produce divide-by-zero. A simple work-around is to add 1.0e-6 or some other small number to the distances. You may also experience a run-time warning complaining about overflow if you raise a small value to a high power. Options include ignoring the warning, reduce the epsilon value or the filter order.\n",
    "\n",
    "ECE472: Copy the 2D Butterworth code from class14. Replace the bwLP, bwHP, bwBP, and bwBS filters with a notch filter called bwN that takes six arguments, namely, d0, u0, v0, n, M, N. Apply the notch filter to the zebra image after it has been corrupted by a 2D sinewave. Try different 2D frequencies to see the results. Your submission should be set up to work for any 2D frequency to be tested. Your code should display the corrupted and filtered images as well as their respective frequency spectra. You may want to apply a log-transformation to the latter to make the content visible. Remove all irrelvant Python code prior to submission.\n",
    "\n",
    "ECE572: Complete the ECE472 assignment. Also add simple display of notch filter for different cut-off frequencies and orders. The notch frequencies remain the same. The display should include plot lines thru the middle of the filters. To avoid having to determine plot line slopes and offsets, choose the notch frequencies to align with an axis."
   ]
  },
  {
   "cell_type": "code",
   "execution_count": null,
   "id": "4aa59009",
   "metadata": {},
   "outputs": [],
   "source": [
    "# load packages"
   ]
  },
  {
   "cell_type": "code",
   "execution_count": null,
   "id": "c2710222",
   "metadata": {},
   "outputs": [],
   "source": [
    "# image/plot display function"
   ]
  },
  {
   "cell_type": "code",
   "execution_count": null,
   "id": "b6295001",
   "metadata": {
    "scrolled": true
   },
   "outputs": [],
   "source": [
    "# notch filter: bwN"
   ]
  },
  {
   "cell_type": "markdown",
   "id": "b3bcce18",
   "metadata": {},
   "source": [
    "## ECE572: Notch Filter Display"
   ]
  },
  {
   "cell_type": "code",
   "execution_count": null,
   "id": "65050d22",
   "metadata": {
    "scrolled": false
   },
   "outputs": [],
   "source": [
    "# display notch filter results"
   ]
  },
  {
   "cell_type": "markdown",
   "id": "fe552b8b",
   "metadata": {},
   "source": [
    "## ECE472: Notch Filter Application"
   ]
  },
  {
   "cell_type": "code",
   "execution_count": null,
   "id": "266f2c47",
   "metadata": {},
   "outputs": [],
   "source": [
    "# nextpow2 function"
   ]
  },
  {
   "cell_type": "code",
   "execution_count": null,
   "id": "630772b2",
   "metadata": {},
   "outputs": [],
   "source": [
    "# sinewave function"
   ]
  },
  {
   "cell_type": "code",
   "execution_count": null,
   "id": "90291d84",
   "metadata": {},
   "outputs": [],
   "source": [
    "# read zebras.jpg (see Exam 1)\n",
    "# add 2D sinewave pattern\n",
    "# apply fft\n",
    "# apply notch filter\n",
    "# apply inverse fft\n",
    "# display images and their spectra"
   ]
  }
 ],
 "metadata": {
  "kernelspec": {
   "display_name": "Python 3 (ipykernel)",
   "language": "python",
   "name": "python3"
  },
  "language_info": {
   "codemirror_mode": {
    "name": "ipython",
    "version": 3
   },
   "file_extension": ".py",
   "mimetype": "text/x-python",
   "name": "python",
   "nbconvert_exporter": "python",
   "pygments_lexer": "ipython3",
   "version": "3.9.15"
  }
 },
 "nbformat": 4,
 "nbformat_minor": 5
}
