{
 "cells": [
  {
   "cell_type": "markdown",
   "id": "419560c8",
   "metadata": {},
   "source": [
    "# HW6 Edge Detection: Canny\n",
    "\n",
    "ECE472: Replace the homegrown Gaussian smoothing kernel and Sobel gradient kernel with the similar skimage filters. Determine settings for sigma, contrast rescaling, low and high tresholds that produce a visually satifying result for the umbc.png building image. Define the contrast scaling as a fraction of the largest gradient magnitude. Call this image C1. Using the same sigma and contrast rescaling settings, show what happens when the low and high thresholds are doubled. Call this image C2. Display C1 and C2 side-by-side with titles that include the parameter settings. Add a brief observations statement.\n",
    "\n",
    "Hint: You need to compute horizontal and vertical gradients. By default, the skimage Sobel filter returns the gradient magnitude from which you cannot compute gradient angles.\n",
    "\n",
    "ECE572: Complete the ECE472 assignment. Verify/correct the Canny support functions for angle quantization, edge thinning, and edge hysteresis.\n",
    "\n",
    "Bragging rights: Determine if the given Sobel gradient kernel produces the same output as the skimage Sobel filter and if not, what makes them different. Introduce interpolation based edge thinning."
   ]
  },
  {
   "cell_type": "code",
   "execution_count": null,
   "id": "86d95926",
   "metadata": {},
   "outputs": [],
   "source": [
    "%load_ext cython"
   ]
  },
  {
   "cell_type": "code",
   "execution_count": null,
   "id": "4aa59009",
   "metadata": {},
   "outputs": [],
   "source": [
    "%matplotlib inline\n",
    "\n",
    "import numpy as np\n",
    "\n",
    "import matplotlib.image as img\n",
    "import matplotlib.pyplot as plt\n",
    "\n",
    "from skimage import io\n",
    "from skimage import exposure\n",
    "\n",
    "from skimage.util import img_as_float32 as img_as_float"
   ]
  },
  {
   "cell_type": "code",
   "execution_count": null,
   "id": "cf2799f5",
   "metadata": {},
   "outputs": [],
   "source": [
    "def print_imginfo(I):\n",
    "    # Copy from HW4"
   ]
  },
  {
   "cell_type": "code",
   "execution_count": null,
   "id": "2eadbd28",
   "metadata": {},
   "outputs": [],
   "source": [
    "def show_images(I, titles=None):\n",
    "    # Copy from HW5 -- since it was optional then, you may have to write it now "
   ]
  },
  {
   "cell_type": "code",
   "execution_count": null,
   "id": "47ab6f0a",
   "metadata": {
    "scrolled": true
   },
   "outputs": [],
   "source": [
    "# read umbc.png image"
   ]
  },
  {
   "cell_type": "markdown",
   "id": "30e93341",
   "metadata": {},
   "source": [
    "## ECE472: SKImage Smoothing, Sobel Gradients"
   ]
  },
  {
   "cell_type": "code",
   "execution_count": null,
   "id": "bd080ffc",
   "metadata": {},
   "outputs": [],
   "source": [
    "# Apply skimage based Gaussian smooothing (sigma)\n",
    "# Compute horizonal and vertical Sobel gradients\n",
    "# Combine to form complex image\n",
    "# Compute gradient magnitudes\n",
    "# Rescale using fraction of max gradient magnitude\n",
    "# Result should be complex image called I2"
   ]
  },
  {
   "cell_type": "markdown",
   "id": "1f1cb375",
   "metadata": {},
   "source": [
    "## ECE572: Verify/Correct Edge Thinning, Hysteresis Code"
   ]
  },
  {
   "cell_type": "code",
   "execution_count": null,
   "id": "b427e470",
   "metadata": {},
   "outputs": [],
   "source": [
    "%%cython \n",
    "import numpy as np\n",
    "\n",
    "# Quantize into four gradient angles\n",
    "# Note: np.angle(x,y) = atan2(y,x)\n",
    "#       angle range [-180,180] deg\n",
    "#\n",
    "# Q0:   0 deg:  (x+1,y),   (x-1,y)\n",
    "# Q1:  45 deg:  (x+1,y+1), (x-1,y-1)\n",
    "# Q2:  90 deg:  (x,y+1),   (x,y-1)\n",
    "# Q3: 135 deg:  (x+1,y-1), (x-1,y+1)\n",
    "\n",
    "cpdef angle_quantization(Ga):\n",
    "    Q = np.around(((Ga+180)%180)/45)\n",
    "    return Q%4\n",
    "\n",
    "# Apply non-max gradient suppression\n",
    "\n",
    "cpdef edge_thinning(Gm, Qa):\n",
    "    Qm = np.copy(Gm)\n",
    "    Gz = np.pad(Gm, ((1,1),(1,1)), mode='constant', constant_values=0)\n",
    "    \n",
    "    cdef int u, v\n",
    "    cdef float Muv, M1, M2\n",
    "    \n",
    "    for u in np.arange(0,Gm.shape[0]):\n",
    "        for v in np.arange(0,Gm.shape[1]):\n",
    "            Muv = Gm[u][v]\n",
    "            \n",
    "            if Qa[u][v] == 0:\n",
    "                M1 = Gz[u+0][v+1]\n",
    "                M2 = Gz[u+2][v+1]\n",
    "                   \n",
    "            elif Qa[u][v] == 1:\n",
    "                M1 = Gz[u+2][v+2]\n",
    "                M2 = Gz[u+0][v+0]\n",
    "                     \n",
    "            elif Qa[u][v] == 2:\n",
    "                M1 = Gz[u+1][v+2]\n",
    "                M2 = Gz[u+1][v+0]\n",
    "                \n",
    "            elif Qa[u][v] == 3:\n",
    "                M1 = Gz[u+2][v+0]\n",
    "                M2 = Gz[u+0][v+2]\n",
    "                \n",
    "            if Muv < M1 or Muv < M2:\n",
    "                Qm[u][v] = 0.0\n",
    "                \n",
    "    return Qm\n",
    "\n",
    "cpdef edge_tracing(int u0, int v0, E, Qm, float low):\n",
    "    cdef int u1, u2, u\n",
    "    cdef int v1, v2, v\n",
    " \n",
    "    u1 = u0 if u0 == 0 else u0-1\n",
    "    u2 = u0 if u0 == E.shape[0]-1 else u0+1\n",
    "    v1 = v0 if v0 == 0 else v0-1\n",
    "    v2 = v0 if v0 == E.shape[1]-1 else v0+1\n",
    "    \n",
    "    E[u0][v0] = Qm[u0][v0]\n",
    "    \n",
    "    for u in np.arange(u1,u2+1):\n",
    "        for v in np.arange(v1,v2+1):\n",
    "            if E[u][v] == 0.0 and Qm[u][v] >= low:\n",
    "                edge_tracing(u, v, E, Qm, low)\n",
    "                return\n",
    "    return\n",
    "    \n",
    "cpdef edge_hysteresis(Qm, float low=0.10, float high=0.20, threshold=True):\n",
    "    E = np.zeros_like(Qm)\n",
    "    \n",
    "    cdef int u, v\n",
    "    \n",
    "    for u in np.arange(0,Qm.shape[0]):\n",
    "        for v in np.arange(0,Qm.shape[1]):            \n",
    "            if E[u][v] == 0.0 and Qm[u][v] >= high:\n",
    "                edge_tracing(u, v, E, Qm, low)\n",
    "    \n",
    "    if threshold:\n",
    "        E = np.where(0<E, 1.0, 0.0)\n",
    "        \n",
    "    return E"
   ]
  },
  {
   "cell_type": "markdown",
   "id": "609be9bb",
   "metadata": {},
   "source": [
    "## ECE472: Threshold Parameter Settings"
   ]
  },
  {
   "cell_type": "code",
   "execution_count": null,
   "id": "becad2d9",
   "metadata": {},
   "outputs": [],
   "source": [
    "Ga = np.angle(I2, deg=True)\n",
    "Qa = angle_quantization(Ga)\n",
    "\n",
    "Qm = edge_thinning(Gm, Qa)\n",
    "\n",
    "Display histogram of quantized gradients\n",
    "\n",
    "low = [?, 2x]\n",
    "high = [?, 2x]\n",
    "\n",
    "C1 = edge_hysteresis(Qm, low=low[0], high=high[0], threshold=True)\n",
    "C2 = edge_hysteresis(Qm, low=low[1], high=high[1], threshold=True)"
   ]
  },
  {
   "cell_type": "code",
   "execution_count": null,
   "id": "2099e544",
   "metadata": {},
   "outputs": [],
   "source": [
    "# Binarize Canny edge maps\n",
    "# Display result w/sigma, contrast scaling, and hysteresis thresholds listed in title"
   ]
  },
  {
   "cell_type": "markdown",
   "id": "d65502f4",
   "metadata": {},
   "source": [
    "## Observations"
   ]
  }
 ],
 "metadata": {
  "kernelspec": {
   "display_name": "Python 3 (ipykernel)",
   "language": "python",
   "name": "python3"
  },
  "language_info": {
   "codemirror_mode": {
    "name": "ipython",
    "version": 3
   },
   "file_extension": ".py",
   "mimetype": "text/x-python",
   "name": "python",
   "nbconvert_exporter": "python",
   "pygments_lexer": "ipython3",
   "version": "3.9.15"
  }
 },
 "nbformat": 4,
 "nbformat_minor": 5
}
