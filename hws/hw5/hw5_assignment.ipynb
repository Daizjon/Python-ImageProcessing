{
 "cells": [
  {
   "cell_type": "markdown",
   "id": "b1435216",
   "metadata": {},
   "source": [
    "## HW5 Image Filtering: Adaptive Median\n",
    "\n",
    "The standard median filter indiscriminately replaces pixel values with the local median. The adaptive median only replaces *extreme* values (0, 255) with a non-extreme value (0 < median < 255). When the median equals an extreme value, an incrementally larger neighborhood is considered until a max size is reached at which point, the median is used whatever it may be. You may find variants on this approach if you do a Google search. Ignore them as far as this assignment goes. We will take a simplified approach that merely prevents updating of non-extreme pixel values. Specifically, use skimage.filters.rank.median() to achieve standard median filtering followed by a call to numpy.where() to execute a logical mask operation that undoes all non-extreme value changes.\n",
    "\n",
    "Implement and apply the adaptive median filter to the sunsphere.gif image after having added 5% salt-and-pepper noise. Compare with the standard median filter for two box kernels. The first box kernel should be the smallest that visually eliminates the salt-and-pepper noise. The second box kernel should be 10 points wider. See class05/nonlinear-rank.ipynb for how add noise and implement box kernels. Add brief statement that summarizes your observations.\n",
    "\n",
    "BONUS: For bragging rights, implement show_images(arg1, arg2) where arg1 is a list of images and arg2 is an optional list of associated titles. Have the function automatically create a row of grayscale images (and titles)."
   ]
  },
  {
   "cell_type": "code",
   "execution_count": null,
   "id": "4aa59009",
   "metadata": {},
   "outputs": [],
   "source": [
    "%matplotlib inline\n",
    "# Load packages needed inline"
   ]
  },
  {
   "cell_type": "code",
   "execution_count": null,
   "id": "1945f0f4",
   "metadata": {},
   "outputs": [],
   "source": [
    "def print_imginfo(I):\n",
    "    # Copy from HW4"
   ]
  },
  {
   "cell_type": "code",
   "execution_count": null,
   "id": "6d3c02e2",
   "metadata": {},
   "outputs": [],
   "source": [
    "def show_images(I, titles=None):\n",
    "    # Optionally write this"
   ]
  },
  {
   "cell_type": "code",
   "execution_count": null,
   "id": "46a8cb1f",
   "metadata": {
    "scrolled": true
   },
   "outputs": [],
   "source": [
    "# Read sunsphere.gif image"
   ]
  },
  {
   "cell_type": "code",
   "execution_count": null,
   "id": "9c471e06",
   "metadata": {},
   "outputs": [],
   "source": [
    "def add_noise(I, p):\n",
    "    # Adapt from class05"
   ]
  },
  {
   "cell_type": "code",
   "execution_count": null,
   "id": "bb3a5bad",
   "metadata": {
    "scrolled": false
   },
   "outputs": [],
   "source": [
    "# Create noisy image. Show original and noisy images."
   ]
  },
  {
   "cell_type": "markdown",
   "id": "8b8b79a5",
   "metadata": {},
   "source": [
    "## Kernel Masks (Footprints)"
   ]
  },
  {
   "cell_type": "code",
   "execution_count": null,
   "id": "a2ffc515",
   "metadata": {},
   "outputs": [],
   "source": [
    "def box(N, M=None):\n",
    "    # Copy from class05\n"
   ]
  },
  {
   "cell_type": "markdown",
   "id": "82368cca",
   "metadata": {},
   "source": [
    "## Simplified Adaptive Median"
   ]
  },
  {
   "cell_type": "code",
   "execution_count": null,
   "id": "fa94a45d",
   "metadata": {
    "scrolled": false
   },
   "outputs": [],
   "source": [
    "# Implement this"
   ]
  },
  {
   "cell_type": "markdown",
   "id": "0315832a",
   "metadata": {},
   "source": [
    "## Observations\n",
    "\n",
    "Add brief statement(s)"
   ]
  }
 ],
 "metadata": {
  "kernelspec": {
   "display_name": "Python 3 (ipykernel)",
   "language": "python",
   "name": "python3"
  },
  "language_info": {
   "codemirror_mode": {
    "name": "ipython",
    "version": 3
   },
   "file_extension": ".py",
   "mimetype": "text/x-python",
   "name": "python",
   "nbconvert_exporter": "python",
   "pygments_lexer": "ipython3",
   "version": "3.9.15"
  },
  "title": "ECE 472/572 HW2 (Dr. Gregor)"
 },
 "nbformat": 4,
 "nbformat_minor": 5
}
