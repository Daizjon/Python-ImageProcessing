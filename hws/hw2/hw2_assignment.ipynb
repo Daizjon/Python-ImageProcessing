{
 "cells": [
  {
   "cell_type": "markdown",
   "id": "33ffe284",
   "metadata": {},
   "source": [
    "# Histogram Equalization\n",
    "\n",
    "Implement histogram equalization and apply to Cheetah.png. Update show_imghist() to take two images and produce a 2x2 grid of those images and their histograms. The first image should be the original image. The second image should be the histogram equalized image. Update the metadata to include YOUR NAME. Submit a clean ipynb file that can run and produce the requested output.\n",
    "\n",
    "ECE472: Use skimage.exposure.equalize_hist() to perform the enhancement.\n",
    "\n",
    "ECE572: Implement equalize_hist(image, nbins=256). Use skimage.exposure.histogram() to produce a histogram for the image along with associated bin centers. Use numpy.cumsum() to calculate the cumulative distribution for the histogram. Remember to rescale so CDF[-1] = 1. Use numpy.interp() to interpolate image intensity values given image.flat, the bin centers and the cumulative distribution function. Reshape the result to the shape of the input image.\n",
    "\n",
    "BONUS: For bragging rights, implement equalize_hist(image, nbins=256, use_sqrt=False) where the use_sqrt argument controls whether to use histogram values $H_i$ or $\\sqrt{H_i}$ when forming the cumulative distribution. Show the result of use_sqrt=False and use_sqrt=True."
   ]
  },
  {
   "cell_type": "code",
   "execution_count": null,
   "id": "e32dd850",
   "metadata": {},
   "outputs": [],
   "source": [
    "%matplotlib inline\n",
    "\n",
    "# Load packages needed"
   ]
  },
  {
   "cell_type": "code",
   "execution_count": null,
   "id": "31c6bf34",
   "metadata": {},
   "outputs": [],
   "source": [
    "def print_imginfo(I):\n",
    "    # Print image type, image shape and dtype, image min and max values"
   ]
  },
  {
   "cell_type": "code",
   "execution_count": null,
   "id": "855a3698",
   "metadata": {},
   "outputs": [],
   "source": [
    "def show_imghist(I1, I2):\n",
    "    # All students"
   ]
  },
  {
   "cell_type": "code",
   "execution_count": null,
   "id": "c6fb6a4b",
   "metadata": {},
   "outputs": [],
   "source": [
    "def equalize_hist(I1,nbins=256,use_sqrt=False):\n",
    "    # ECE 572 students\n",
    "    I2 = I1\n",
    "    return I2.astype(I1.dtype, copy=False)"
   ]
  },
  {
   "cell_type": "code",
   "execution_count": null,
   "id": "2385f623",
   "metadata": {
    "scrolled": false
   },
   "outputs": [],
   "source": [
    "# Read input image, convert to float32\n",
    "# Perform histogram equalization\n",
    "# Print image info for input image\n",
    "# Print image info for output image\n",
    "# Show both images and their histograms\n"
   ]
  }
 ],
 "metadata": {
  "kernelspec": {
   "display_name": "Python 3 (ipykernel)",
   "language": "python",
   "name": "python3"
  },
  "language_info": {
   "codemirror_mode": {
    "name": "ipython",
    "version": 3
   },
   "file_extension": ".py",
   "mimetype": "text/x-python",
   "name": "python",
   "nbconvert_exporter": "python",
   "pygments_lexer": "ipython3",
   "version": "3.9.13"
  },
  "title": "YOUR NAME"
 },
 "nbformat": 4,
 "nbformat_minor": 5
}
