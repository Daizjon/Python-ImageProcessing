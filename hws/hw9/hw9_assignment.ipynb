{
 "cells": [
  {
   "cell_type": "markdown",
   "id": "419560c8",
   "metadata": {},
   "source": [
    "# HW9 Morphology: Shape Filtering\n",
    "\n",
    "Download morpho1.gif and morpho2.gif. Convert both images to boolean before applying any morphological shape filters. Note: Foreground is black (0) while background is white (1). \n",
    "\n",
    "MORPHO1: Determine a sequence of one or more morphological operations that leave the larger circular objects (more or less) intact while removing the small lines and small black circular objects. Show before and after images as well the difference thereof (black objects that have been removed).\n",
    "\n",
    "MORPHO2: Determine a sequence of morphological operations that cluster the many small objects into a handful of larger objects. Each object pixels must be 4-connected with a cluster pixel (touch on the side, not just diagonally). Show before and after images as well as a gray overlay of the result with the input on top (like the convex hull from class).\n",
    "\n",
    "ECE472: Process *either* morpho1 *or* morpho2.\n",
    "\n",
    "ECE572: Process morpho1 *as well as* morpho2."
   ]
  },
  {
   "cell_type": "code",
   "execution_count": null,
   "id": "4aa59009",
   "metadata": {},
   "outputs": [],
   "source": [
    "# Read morpho1.gif and morpho2.gif\n",
    "# Display as shown in hw9_layout1.png"
   ]
  },
  {
   "cell_type": "markdown",
   "id": "30e93341",
   "metadata": {},
   "source": [
    "## Morpho1 Filtering"
   ]
  },
  {
   "cell_type": "code",
   "execution_count": null,
   "id": "a4567939",
   "metadata": {
    "scrolled": false
   },
   "outputs": [],
   "source": [
    "# Clean up morpho1.gif\n",
    "# Display as shown in hw9_layout2.png"
   ]
  },
  {
   "cell_type": "markdown",
   "id": "2e29cd7c",
   "metadata": {},
   "source": [
    "## Morpho2 Filtering"
   ]
  },
  {
   "cell_type": "code",
   "execution_count": null,
   "id": "1b671ed3",
   "metadata": {},
   "outputs": [],
   "source": [
    "# Clean up morpho2.gif\n",
    "# Display as shown in hw9_layout3.png"
   ]
  }
 ],
 "metadata": {
  "kernelspec": {
   "display_name": "Python 3 (ipykernel)",
   "language": "python",
   "name": "python3"
  },
  "language_info": {
   "codemirror_mode": {
    "name": "ipython",
    "version": 3
   },
   "file_extension": ".py",
   "mimetype": "text/x-python",
   "name": "python",
   "nbconvert_exporter": "python",
   "pygments_lexer": "ipython3",
   "version": "3.9.15"
  }
 },
 "nbformat": 4,
 "nbformat_minor": 5
}
