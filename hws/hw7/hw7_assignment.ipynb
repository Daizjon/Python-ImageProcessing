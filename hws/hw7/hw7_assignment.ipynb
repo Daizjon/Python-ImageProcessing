{
 "cells": [
  {
   "cell_type": "markdown",
   "id": "419560c8",
   "metadata": {},
   "source": [
    "# HW7 Circle Detection: Hough Transform\n",
    "\n",
    "ECE472: Apply skimage hough_circle to coins.png to detect coin positions and match their edges. See the skimage documentation for details. You need to first run the Canny operator to obtain an edge map. Try different settings for sigma, low and high threshold. Ultimately, determine the smallest ballpark values of all three parameters that produce a good result (i.e., using 10 is fine if 8 works but 5 doesn't). Specify an appropriate range of radii for hough_circle. Use hough_circle_peaks to extract as many circles as needed to obtain one for each coin. Whether needed or not, specify appropriate minimum distances separating centers for both image dimensions to avoid multiple circles extracted for any one coin. Print list of (x0,y0,r) values for extracted circle centers and their radii.\n",
    "\n",
    "ECE572: Complete the ECE472 assignment. Add red circle overlay on input image that shows all circles. Use skimage.draw.circle_perimeter. Convert image to RGB before adding circles."
   ]
  },
  {
   "cell_type": "code",
   "execution_count": null,
   "id": "0e559ea7",
   "metadata": {},
   "outputs": [],
   "source": [
    "# Read coins.png\n",
    "# Use canny(sigma, low_threshold, high_threshold) to obtain edge map -- consider use of mask to produce clean boundary"
   ]
  },
  {
   "cell_type": "markdown",
   "id": "30e93341",
   "metadata": {},
   "source": [
    "## ECE472: Hough Transform"
   ]
  },
  {
   "cell_type": "code",
   "execution_count": 1,
   "id": "bd080ffc",
   "metadata": {},
   "outputs": [],
   "source": [
    "# Specify radii search range\n",
    "# Apply Hough transform\n",
    "# Detect peaks from accumulator result\n",
    "# Print (x0,y0,r) for each coin"
   ]
  },
  {
   "cell_type": "markdown",
   "id": "8b6c5f7a",
   "metadata": {},
   "source": [
    "## ECE572: Circle Overlay"
   ]
  },
  {
   "cell_type": "code",
   "execution_count": 2,
   "id": "a7d369f2",
   "metadata": {
    "scrolled": true
   },
   "outputs": [],
   "source": [
    "# Produce image with red color overlay of circles"
   ]
  }
 ],
 "metadata": {
  "kernelspec": {
   "display_name": "Python 3 (ipykernel)",
   "language": "python",
   "name": "python3"
  },
  "language_info": {
   "codemirror_mode": {
    "name": "ipython",
    "version": 3
   },
   "file_extension": ".py",
   "mimetype": "text/x-python",
   "name": "python",
   "nbconvert_exporter": "python",
   "pygments_lexer": "ipython3",
   "version": "3.9.15"
  }
 },
 "nbformat": 4,
 "nbformat_minor": 5
}
