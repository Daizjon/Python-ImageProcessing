{
 "cells": [
  {
   "cell_type": "markdown",
   "id": "b1435216",
   "metadata": {},
   "source": [
    "## HW4 Image Filtering: Difference of Gaussians\n",
    "\n",
    "The Laplacian of Gaussian (LoG) kernel can be approximated by a scaled Difference of Gaussians (DoG) kernel, cf. [B&B Book 3, Sec 7.1.1]. That is,\n",
    "\n",
    "\\begin{equation}\n",
    "L_\\sigma(x,y) \\approx \\frac{2k^2}{\\sigma^2 (k^2-1)} ~( G_{k\\sigma}(x,y) - G_{\\sigma}(x,y) ),\n",
    "\\qquad\n",
    "G_{\\sigma} = \\frac{1}{2\\pi\\sigma^2} e^{-(x^2+y^2)/(2\\sigma^2)}\n",
    "\\end{equation}\n",
    "\n",
    "ECE472: Implement an LoG kernel using skimage.filters.gaussian() and skimage.filters.laplace(). Apply to F35.gif for sigma=1.0. Repeat for the DoG kernel skimage.filters.difference_of_gaussians(). Determine determine sigma values for the Dog kernel that approximate the appearance of LoG filtering.\n",
    "\n",
    "ECE572: Complete the ECE472 assignment only implement your own DoG kernel using the above formulae."
   ]
  },
  {
   "cell_type": "code",
   "execution_count": null,
   "id": "4aa59009",
   "metadata": {},
   "outputs": [],
   "source": [
    "%matplotlib inline\n",
    "\n",
    "import numpy as np\n",
    "\n",
    "import matplotlib.image as img\n",
    "import matplotlib.pyplot as plt\n",
    "\n",
    "from skimage import io\n",
    "from skimage import filters as flt\n",
    "from skimage.util import img_as_float32 as img_as_float\n",
    "\n",
    "from scipy.ndimage import convolve"
   ]
  },
  {
   "cell_type": "code",
   "execution_count": null,
   "id": "1945f0f4",
   "metadata": {},
   "outputs": [],
   "source": [
    "def print_imginfo(I):\n",
    "    print(type(I))\n",
    "    print(I.shape, I.dtype)\n",
    "    print('Data range:', np.min(I), 'to', np.max(I))"
   ]
  },
  {
   "cell_type": "code",
   "execution_count": null,
   "id": "17516620",
   "metadata": {},
   "outputs": [],
   "source": [
    "def show_imghist(I, vmin=0.0, vmax=1.0):\n",
    "    fig, ax = plt.subplots(1, 2, figsize=(10,3))\n",
    "    \n",
    "    ax[0].imshow(I, cmap='gray', vmin=vmin, vmax=vmax)\n",
    "    ax[0].set_axis_off()\n",
    "    \n",
    "    ax[1].hist(I.ravel(), lw=0, bins=256, range=(vmin,vmax));\n",
    "    ax[1].set_xlim(vmin, vmax)\n",
    "    ax[1].set_yticks([])"
   ]
  },
  {
   "cell_type": "code",
   "execution_count": null,
   "id": "46a8cb1f",
   "metadata": {
    "scrolled": true
   },
   "outputs": [],
   "source": [
    "I1 = io.imread(\"../images/F35.gif\", as_gray=True)\n",
    "I1 = img_as_float(I1)\n",
    "\n",
    "print_imginfo(I1)\n",
    "show_imghist(I1)"
   ]
  },
  {
   "cell_type": "markdown",
   "id": "82368cca",
   "metadata": {},
   "source": [
    "## ECE472 Students: SKImage DoG Kernel"
   ]
  },
  {
   "cell_type": "code",
   "execution_count": null,
   "id": "fa94a45d",
   "metadata": {
    "scrolled": false
   },
   "outputs": [],
   "source": [
    "truncate = 4.0\n",
    "mode = 'reflect'\n",
    "\n",
    "sigma = 1.0\n",
    "k = 2\n",
    "\n",
    "I2 = flt.gaussian(I1, sigma, truncate=truncate, mode=mode)\n",
    "I2 = flt.laplace(I2)\n",
    "\n",
    "I3 = flt.difference_of_gaussians(I1, sigma, k*sigma, truncate=truncate, mode=mode)\n",
    "\n",
    "print_imginfo(I2)\n",
    "print('')\n",
    "print_imginfo(I3)\n",
    "\n",
    "show_imghist(I2, vmin=-0.03, vmax=0.03)\n",
    "show_imghist(I3, vmin=-0.03, vmax=0.03)"
   ]
  },
  {
   "cell_type": "markdown",
   "id": "4b448598",
   "metadata": {},
   "source": [
    "## ECE572 Students:  Homebrew DoG Kernel"
   ]
  },
  {
   "cell_type": "code",
   "execution_count": null,
   "id": "e0c4ccae",
   "metadata": {},
   "outputs": [],
   "source": [
    "I2 = flt.gaussian(I1, sigma, truncate=truncate, mode=mode)\n",
    "I2 = flt.laplace(I2)\n",
    "\n",
    "def DoG_kernel(sigma=1.0, k=1.6, truncate=3.0):\n",
    "    s1 = sigma\n",
    "    s2 = k*sigma\n",
    "    \n",
    "    N = np.int32(np.round(truncate*s2))\n",
    "    u, v = np.mgrid[-N:N+1,-N:N+1]\n",
    "    \n",
    "    h1 = 1.0/(2*np.pi*s1**2)*np.exp(-0.5*(u**2+v**2)/(s1**2))\n",
    "    h2 = 1.0/(2*np.pi*s2**2)*np.exp(-0.5*(u**2+v**2)/(s2**2))\n",
    "    \n",
    "    h = (2*k**2)/(np.pi*(sigma**2)*(k**2-1))*(h2-h1)\n",
    "\n",
    "    return h\n",
    "\n",
    "h = DoG_kernel(sigma=sigma, k=k, truncate=truncate)\n",
    "I3 = convolve(I1, h, mode=mode)\n",
    "\n",
    "print_imginfo(I2)\n",
    "print('')\n",
    "print_imginfo(I3)\n",
    "\n",
    "show_imghist(I2, vmin=-0.03, vmax=0.03)\n",
    "show_imghist(I3, vmin=-0.03, vmax=0.03)"
   ]
  }
 ],
 "metadata": {
  "kernelspec": {
   "display_name": "Python 3 (ipykernel)",
   "language": "python",
   "name": "python3"
  },
  "language_info": {
   "codemirror_mode": {
    "name": "ipython",
    "version": 3
   },
   "file_extension": ".py",
   "mimetype": "text/x-python",
   "name": "python",
   "nbconvert_exporter": "python",
   "pygments_lexer": "ipython3",
   "version": "3.9.15"
  },
  "title": "ECE 472/572 HW2 (Dr. Gregor)"
 },
 "nbformat": 4,
 "nbformat_minor": 5
}
