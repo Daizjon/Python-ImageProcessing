{
 "cells": [
  {
   "cell_type": "markdown",
   "id": "419560c8",
   "metadata": {},
   "source": [
    "# Feature Extraction: Lines"
   ]
  },
  {
   "cell_type": "code",
   "execution_count": null,
   "id": "4aa59009",
   "metadata": {},
   "outputs": [],
   "source": [
    "%matplotlib inline\n",
    "\n",
    "import numpy as np\n",
    "\n",
    "import matplotlib.image as img\n",
    "import matplotlib.pyplot as plt\n",
    "import matplotlib.colors as clr\n",
    "\n",
    "from skimage import io\n",
    "from skimage.draw import line as draw_line\n",
    "from skimage.feature import canny\n",
    "from skimage.transform import hough_line, hough_line_peaks\n",
    "from skimage.transform import probabilistic_hough_line\n",
    "from skimage.util import img_as_float32 as img_as_float"
   ]
  },
  {
   "cell_type": "code",
   "execution_count": null,
   "id": "1945f0f4",
   "metadata": {},
   "outputs": [],
   "source": [
    "def print_imginfo(I):\n",
    "    print(type(I))\n",
    "    print(I.shape, I.dtype)\n",
    "    print('Data range:', np.min(I), 'to', np.max(I))"
   ]
  },
  {
   "cell_type": "code",
   "execution_count": null,
   "id": "46a8cb1f",
   "metadata": {
    "scrolled": false
   },
   "outputs": [],
   "source": [
    "use_test = True\n",
    "\n",
    "if use_test:\n",
    "    I1 = np.zeros((200, 200))\n",
    "    I1[draw_line(25, 25, 150, 50)] = 1.0\n",
    "    I1[draw_line(25, 25, 25, 160)] = 1.0\n",
    "    I1[draw_line(25, 160, 150, 50)] = 1.0\n",
    "else:\n",
    "    I1 = io.imread(\"../../images/bikes.jpg\", as_gray=True)\n",
    "    I1 = img_as_float(I1[75:275,200:500])\n",
    "    I1 = canny(I1, sigma=2, low_threshold=0.10, high_threshold=0.20)\n",
    "\n",
    "fig, ax = plt.subplots()\n",
    "plt.imshow(I1, cmap='gray')"
   ]
  },
  {
   "cell_type": "markdown",
   "id": "dac985e7",
   "metadata": {},
   "source": [
    "## Algorithm: Hough Transform"
   ]
  },
  {
   "cell_type": "code",
   "execution_count": null,
   "id": "7460f4d9",
   "metadata": {
    "scrolled": false
   },
   "outputs": [],
   "source": [
    "angles = np.linspace(-np.pi/2, np.pi/2, 360, endpoint=False)\n",
    "\n",
    "accum, theta, d = hough_line(I1, theta=angles)\n",
    "peak_data = hough_line_peaks(accum, theta, d, threshold=0.5*accum.max(), num_peaks=10)"
   ]
  },
  {
   "cell_type": "code",
   "execution_count": null,
   "id": "61851395",
   "metadata": {},
   "outputs": [],
   "source": [
    "fig, ax = plt.subplots(1, 1, figsize=(12,5))\n",
    "\n",
    "delta_t = 0.5*np.diff(theta).mean()\n",
    "delta_d = 0.5*np.diff(d).mean()\n",
    "\n",
    "xmin = np.rad2deg(theta[0] - delta_t)\n",
    "xmax = np.rad2deg(theta[-1] + delta_t)\n",
    "ymax = d[-1] + delta_d\n",
    "ymin = d[0] - delta_d\n",
    "\n",
    "axis = [ xmin, xmax, ymax, ymin ]\n",
    "ax.imshow(accum, norm=clr.PowerNorm(gamma=0.25), extent=axis, cmap='gray')\n",
    "\n",
    "ax.set_aspect(np.abs((xmax-xmin)/(ymax-ymin)))\n",
    "\n",
    "ax.set_title('Accumulator')\n",
    "ax.set_xlabel('Angles (degrees)')\n",
    "ax.set_ylabel('Distance (pixels)')\n",
    "\n",
    "plt.show()"
   ]
  },
  {
   "cell_type": "code",
   "execution_count": null,
   "id": "a8d02bf5",
   "metadata": {},
   "outputs": [],
   "source": [
    "fig, ax = plt.subplots(1, 2, figsize=(12,5))\n",
    "\n",
    "ax[0].imshow(I1, cmap='gray')\n",
    "ax[0].set_title('Full length lines')\n",
    "ax[0].set_xlim((0,I1.shape[1]))\n",
    "ax[0].set_ylim((I1.shape[0],1))\n",
    "ax[0].set_axis_off()\n",
    "\n",
    "for count, angle, dist in zip(*peak_data):\n",
    "    print('%3d %5.1f deg %5.1f' % (count, np.rad2deg(angle), dist))\n",
    "    u = dist*np.cos(angle)\n",
    "    v = dist*np.sin(angle)\n",
    "    ax[0].axline((u,v), slope=np.tan(angle + np.pi/2))\n",
    "    \n",
    "lines = probabilistic_hough_line(I1, threshold=50, line_length=10, line_gap=3)\n",
    "\n",
    "ax[1].imshow(np.zeros_like(I1))\n",
    "ax[1].set_xlim((0, I1.shape[1]))\n",
    "ax[1].set_ylim((I1.shape[0], 1))\n",
    "ax[1].set_title('Probabilistic estimate')\n",
    "ax[1].set_axis_off()\n",
    "\n",
    "for line in lines:\n",
    "    p0, p1 = line\n",
    "    ax[1].plot((p0[0], p1[0]), (p0[1], p1[1]))\n",
    "    \n",
    "plt.tight_layout()\n",
    "plt.show()"
   ]
  }
 ],
 "metadata": {
  "kernelspec": {
   "display_name": "Python 3 (ipykernel)",
   "language": "python",
   "name": "python3"
  },
  "language_info": {
   "codemirror_mode": {
    "name": "ipython",
    "version": 3
   },
   "file_extension": ".py",
   "mimetype": "text/x-python",
   "name": "python",
   "nbconvert_exporter": "python",
   "pygments_lexer": "ipython3",
   "version": "3.9.15"
  }
 },
 "nbformat": 4,
 "nbformat_minor": 5
}
