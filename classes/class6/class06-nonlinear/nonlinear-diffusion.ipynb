{
 "cells": [
  {
   "cell_type": "markdown",
   "id": "419560c8",
   "metadata": {},
   "source": [
    "# Image Filtering: Spatial Methods"
   ]
  },
  {
   "cell_type": "code",
   "execution_count": null,
   "id": "86d95926",
   "metadata": {},
   "outputs": [],
   "source": [
    "%load_ext cython"
   ]
  },
  {
   "cell_type": "code",
   "execution_count": null,
   "id": "4aa59009",
   "metadata": {},
   "outputs": [],
   "source": [
    "%matplotlib inline\n",
    "\n",
    "import numpy as np\n",
    "\n",
    "import matplotlib.image as img\n",
    "import matplotlib.pyplot as plt\n",
    "\n",
    "from skimage import io\n",
    "from skimage.util import random_noise\n",
    "from skimage.util import img_as_float32 as img_as_float"
   ]
  },
  {
   "cell_type": "code",
   "execution_count": null,
   "id": "6856b1ba",
   "metadata": {},
   "outputs": [],
   "source": [
    "def print_imginfo(I):\n",
    "    print(type(I))\n",
    "    print(I.shape, I.dtype)\n",
    "    print('Data range:', np.min(I), 'to', np.max(I))"
   ]
  },
  {
   "cell_type": "code",
   "execution_count": null,
   "id": "2ea90a00",
   "metadata": {},
   "outputs": [],
   "source": [
    "def show_plots(I, titles=None):\n",
    "    fig, ax = plt.subplots(1, len(I), figsize=(12,2))\n",
    "    \n",
    "    r = I[0].shape[0]//2\n",
    "    \n",
    "    for i in np.arange(0,len(I)):\n",
    "        ax[i].plot(I[i][r,:])\n",
    "        ax[i].set_ylim(0,1)\n",
    "        ax[i].set_axis_off()\n",
    "        if titles != None:\n",
    "            ax[i].set_title(titles[i])"
   ]
  },
  {
   "cell_type": "code",
   "execution_count": null,
   "id": "8040bec6",
   "metadata": {},
   "outputs": [],
   "source": [
    "def show_images(I, titles=None):\n",
    "    fig, ax = plt.subplots(1, len(I), figsize=(12,12))\n",
    "    \n",
    "    for i in np.arange(0,len(I)):\n",
    "        ax[i].imshow(I[i], cmap='gray')\n",
    "        ax[i].set_axis_off()\n",
    "        if titles != None:\n",
    "            ax[i].set_title(titles[i])"
   ]
  },
  {
   "cell_type": "code",
   "execution_count": null,
   "id": "47ab6f0a",
   "metadata": {
    "scrolled": false
   },
   "outputs": [],
   "source": [
    "I1 = io.imread(\"../../images/umbc.png\", as_gray=True)\n",
    "I1 = img_as_float(I1)\n",
    "\n",
    "noise_std = 0.05\n",
    "In = random_noise(I1, var=noise_std**2)\n",
    "In = img_as_float(In)\n",
    "\n",
    "show_plots([I1, In], ['Original','Noisy Image'])\n",
    "show_images([I1, In], ['Original','Noisy Image'])"
   ]
  },
  {
   "cell_type": "markdown",
   "id": "612415f1",
   "metadata": {},
   "source": [
    "## Non-Linear Filter: Anisotropic Diffusion"
   ]
  },
  {
   "cell_type": "code",
   "execution_count": null,
   "id": "b427e470",
   "metadata": {},
   "outputs": [],
   "source": [
    "%%cython \n",
    "import numpy as np\n",
    "\n",
    "cpdef g1(float v, float K):\n",
    "    return np.exp(-(v/K)**2)\n",
    "\n",
    "cpdef g2(float v, float K):\n",
    "    return 1/(1+(v/K)**2)\n",
    "\n",
    "cpdef diffusion_filter(I0, float alpha=0.10, int mode=1, float K=1.0):\n",
    "    g = [g1, g2]\n",
    "    I1 = np.empty_like(I0)\n",
    "    \n",
    "    cdef float CHG\n",
    "    cdef float Iuv, Imn\n",
    "    cdef int u, v, m, n\n",
    "    \n",
    "    Iz = np.pad(I0, ((1,1),(1,1)), mode='wrap')\n",
    "    N4 = np.array([[0,-1],[1,0],[0,1],[-1,0]])\n",
    "    \n",
    "    for u in np.arange(0,I0.shape[0]):\n",
    "        for v in np.arange(0,I0.shape[1]):            \n",
    "            Iuv = I0[u][v]\n",
    "            \n",
    "            CHG = 0.0\n",
    "            for m, n in N4:\n",
    "                Imn = Iz[u+m+1][v+n+1]\n",
    "                CHG += g[mode-1](Imn-Iuv, K)*(Imn-Iuv)\n",
    "\n",
    "            I1[u][v] = Iuv + alpha*CHG\n",
    "        \n",
    "    return I1"
   ]
  },
  {
   "cell_type": "code",
   "execution_count": null,
   "id": "01c99bb8",
   "metadata": {
    "scrolled": true
   },
   "outputs": [],
   "source": [
    "%%time\n",
    "alpha = 0.25\n",
    "K = noise_std\n",
    "\n",
    "I2 = [ In ]\n",
    "for k in np.arange(0,5):\n",
    "    Ip = diffusion_filter(I2[-1], alpha=alpha, mode=1, K=K)\n",
    "    I2.append(Ip)"
   ]
  },
  {
   "cell_type": "code",
   "execution_count": null,
   "id": "7e8f26d3",
   "metadata": {
    "scrolled": false
   },
   "outputs": [],
   "source": [
    "show_plots([I2[1],I2[-1]], ['Iteration 1','Iteration N'])\n",
    "show_images([I2[1],I2[-1]],['Iteration 1','Iteration N'])"
   ]
  },
  {
   "cell_type": "code",
   "execution_count": null,
   "id": "025c3a21",
   "metadata": {},
   "outputs": [],
   "source": [
    "%%time\n",
    "alpha = 0.25\n",
    "K = noise_std\n",
    "\n",
    "I2 = [ In ]\n",
    "for k in np.arange(0,5):\n",
    "    Ip = diffusion_filter(I2[-1], alpha=alpha, mode=2, K=K)\n",
    "    I2.append(Ip)"
   ]
  },
  {
   "cell_type": "code",
   "execution_count": null,
   "id": "15822fc5",
   "metadata": {
    "scrolled": false
   },
   "outputs": [],
   "source": [
    "show_plots([I2[1],I2[-1]], ['Iteration 1','Iteration N'])\n",
    "show_images([I2[1],I2[-1]],['Iteration 1','Iteration N'])"
   ]
  }
 ],
 "metadata": {
  "kernelspec": {
   "display_name": "Python 3 (ipykernel)",
   "language": "python",
   "name": "python3"
  },
  "language_info": {
   "codemirror_mode": {
    "name": "ipython",
    "version": 3
   },
   "file_extension": ".py",
   "mimetype": "text/x-python",
   "name": "python",
   "nbconvert_exporter": "python",
   "pygments_lexer": "ipython3",
   "version": "3.9.15"
  }
 },
 "nbformat": 4,
 "nbformat_minor": 5
}
