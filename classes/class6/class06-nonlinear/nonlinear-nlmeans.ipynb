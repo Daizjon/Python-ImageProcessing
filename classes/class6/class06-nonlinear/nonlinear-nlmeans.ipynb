{
 "cells": [
  {
   "cell_type": "markdown",
   "id": "419560c8",
   "metadata": {},
   "source": [
    "# Image Filtering: Spatial Methods"
   ]
  },
  {
   "cell_type": "code",
   "execution_count": null,
   "id": "4aa59009",
   "metadata": {},
   "outputs": [],
   "source": [
    "%matplotlib inline\n",
    "\n",
    "import numpy as np\n",
    "\n",
    "import matplotlib.image as img\n",
    "import matplotlib.pyplot as plt\n",
    "\n",
    "from skimage import io\n",
    "from skimage.restoration import denoise_nl_means\n",
    "from skimage.util import random_noise\n",
    "from skimage.util import img_as_ubyte\n",
    "from skimage.util import img_as_float32 as img_as_float"
   ]
  },
  {
   "cell_type": "code",
   "execution_count": null,
   "id": "6856b1ba",
   "metadata": {},
   "outputs": [],
   "source": [
    "def print_imginfo(I):\n",
    "    print(type(I))\n",
    "    print(I.shape, I.dtype)\n",
    "    print('Data range:', np.min(I), 'to', np.max(I))"
   ]
  },
  {
   "cell_type": "code",
   "execution_count": null,
   "id": "44107c44",
   "metadata": {},
   "outputs": [],
   "source": [
    "def show_plots(I, titles=None):\n",
    "    fig, ax = plt.subplots(1, len(I), figsize=(12,2))\n",
    "    \n",
    "    r = I[0].shape[0]//2\n",
    "    \n",
    "    for i in np.arange(0,len(I)):\n",
    "        ax[i].plot(I[i][r,:])\n",
    "        ax[i].set_ylim(-0.1,1.1)\n",
    "        ax[i].set_axis_off()\n",
    "        if titles != None:\n",
    "            ax[i].set_title(titles[i])"
   ]
  },
  {
   "cell_type": "code",
   "execution_count": null,
   "id": "3e54ccb2",
   "metadata": {},
   "outputs": [],
   "source": [
    "def show_images(I, titles=None):\n",
    "    fig, ax = plt.subplots(1, len(I), figsize=(12,12))\n",
    "    \n",
    "    for i in np.arange(0,len(I)):\n",
    "        ax[i].imshow(I[i], cmap='gray')\n",
    "        ax[i].set_axis_off()\n",
    "        if titles != None:\n",
    "            ax[i].set_title(titles[i])"
   ]
  },
  {
   "cell_type": "code",
   "execution_count": null,
   "id": "194a4040",
   "metadata": {},
   "outputs": [],
   "source": [
    "def show_imghist(I, vmin=0.0, vmax=1.0):\n",
    "    fig, ax = plt.subplots(1, 2, figsize=(12,3))\n",
    "    \n",
    "    ax[0].imshow(I, cmap='gray', vmin=vmin, vmax=vmax)\n",
    "    ax[0].set_axis_off()\n",
    "    \n",
    "    ax[1].hist(I.ravel(), lw=0, bins=256, range=(vmin, vmax));\n",
    "    ax[1].set_xlim(vmin, vmax)\n",
    "    ax[1].set_yticks([])"
   ]
  },
  {
   "cell_type": "code",
   "execution_count": null,
   "id": "3398bc75",
   "metadata": {
    "scrolled": false
   },
   "outputs": [],
   "source": [
    "I1 = io.imread(\"../../images/umbc.png\", as_gray=True)\n",
    "I1 = img_as_float(I1)\n",
    "\n",
    "noise_std = 0.05\n",
    "In = random_noise(I1, var=noise_std**2)\n",
    "In = img_as_float(In)\n",
    "\n",
    "show_plots([I1, In], ['Original','Noisy Image'])\n",
    "show_images([I1, In], ['Original','Noisy Image'])"
   ]
  },
  {
   "cell_type": "markdown",
   "id": "612415f1",
   "metadata": {},
   "source": [
    "## Non-Linear Filter: Non-Local Means Filter"
   ]
  },
  {
   "cell_type": "code",
   "execution_count": null,
   "id": "7fe68b05",
   "metadata": {
    "scrolled": false
   },
   "outputs": [],
   "source": [
    "# patch: neighborhood mean calculation\n",
    "# patch_distance: neighborhood similarity\n",
    "# h: controls patch weight decay as function of distance (large h, more smoothing)\n",
    "I2 = denoise_nl_means(In, patch_size=7, patch_distance=11, h=0.01, sigma=noise_std)\n",
    "I2 = img_as_float(I2)\n",
    "\n",
    "print_imginfo(I2)\n",
    "\n",
    "show_plots([I1, I2], ['Original','Non-Local Means'])\n",
    "show_images([I1, I2], ['Noisy Image','Non-Local Means'])"
   ]
  },
  {
   "cell_type": "code",
   "execution_count": null,
   "id": "0d765d0d",
   "metadata": {
    "scrolled": false
   },
   "outputs": [],
   "source": [
    "show_imghist(I2)\n",
    "show_imghist(I1-I2, vmin=-0.10, vmax=0.10)"
   ]
  }
 ],
 "metadata": {
  "kernelspec": {
   "display_name": "Python 3 (ipykernel)",
   "language": "python",
   "name": "python3"
  },
  "language_info": {
   "codemirror_mode": {
    "name": "ipython",
    "version": 3
   },
   "file_extension": ".py",
   "mimetype": "text/x-python",
   "name": "python",
   "nbconvert_exporter": "python",
   "pygments_lexer": "ipython3",
   "version": "3.9.15"
  }
 },
 "nbformat": 4,
 "nbformat_minor": 5
}
