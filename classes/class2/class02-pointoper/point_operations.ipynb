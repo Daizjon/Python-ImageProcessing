{
 "cells": [
  {
   "cell_type": "markdown",
   "id": "419560c8",
   "metadata": {},
   "source": [
    "# Image Enhancement: Point Operations"
   ]
  },
  {
   "cell_type": "code",
   "execution_count": null,
   "id": "4aa59009",
   "metadata": {},
   "outputs": [],
   "source": [
    "%matplotlib inline\n",
    "\n",
    "import numpy as np\n",
    "\n",
    "import matplotlib.image as img\n",
    "import matplotlib.pyplot as plt\n",
    "\n",
    "from skimage import io\n",
    "from skimage import exposure\n",
    "from skimage.util import img_as_float32 as img_as_float"
   ]
  },
  {
   "cell_type": "code",
   "execution_count": null,
   "id": "1945f0f4",
   "metadata": {},
   "outputs": [],
   "source": [
    "def print_imginfo(I):\n",
    "    print(type(I))\n",
    "    print(I.shape, I.dtype)\n",
    "    print('Data range:', np.min(I), 'to', np.max(I))"
   ]
  },
  {
   "cell_type": "code",
   "execution_count": null,
   "id": "fccd02a7",
   "metadata": {},
   "outputs": [],
   "source": [
    "def show_imghist(I):\n",
    "    fig, ax = plt.subplots(1, 2, figsize=(10,3))\n",
    "    \n",
    "    ax[0].imshow(I, cmap='gray', vmin=0.0, vmax=1.0)\n",
    "    ax[0].set_axis_off()\n",
    "    \n",
    "    ax[1].hist(I.ravel(), lw=0, bins=256, range=(0.01,0.99));\n",
    "    ax[1].set_xlim(0.0,1)\n",
    "    ax[1].set_yticks([])"
   ]
  },
  {
   "cell_type": "code",
   "execution_count": null,
   "id": "46a8cb1f",
   "metadata": {
    "scrolled": true
   },
   "outputs": [],
   "source": [
    "I1 = io.imread(\"../../images/parrot.png\", as_gray=True)\n",
    "I1 = img_as_float(I1)\n",
    "\n",
    "print_imginfo(I1)\n",
    "show_imghist(I1)\n"
   ]
  },
  {
   "cell_type": "markdown",
   "id": "723ac28b",
   "metadata": {},
   "source": [
    "## Thresholding"
   ]
  },
  {
   "cell_type": "code",
   "execution_count": null,
   "id": "fd926a6b",
   "metadata": {
    "scrolled": true
   },
   "outputs": [],
   "source": [
    "I2 = np.where((0.2 < I1) & (I1 < 0.5), 0.0, 1.0)  # if condition true else false (0=black, 255=white)\n",
    "\n",
    "print_imginfo(I2)\n",
    "show_imghist(I2)"
   ]
  },
  {
   "cell_type": "markdown",
   "id": "ecf944fb",
   "metadata": {},
   "source": [
    "## Contrast/Brightness, Contrast Stretching w/Thresholding"
   ]
  },
  {
   "cell_type": "code",
   "execution_count": null,
   "id": "5b9c2887",
   "metadata": {
    "scrolled": true
   },
   "outputs": [],
   "source": [
    "I2 = exposure.rescale_intensity(I1, in_range=(0.2,0.9), out_range=(0.0,1.0))\n",
    "#I2 = exposure.rescale_intensity(I1, in_range=(0.2,0.9), out_range=(0.0,1.0))\n",
    "\n",
    "print_imginfo(I2)\n",
    "show_imghist(I2)"
   ]
  },
  {
   "cell_type": "markdown",
   "id": "d961a460",
   "metadata": {},
   "source": [
    "## Gamma, Log, Inverse Log Correction"
   ]
  },
  {
   "cell_type": "code",
   "execution_count": null,
   "id": "6163f2d1",
   "metadata": {
    "scrolled": true
   },
   "outputs": [],
   "source": [
    "#I2 = exposure.adjust_gamma(I1, 1.0, 1.0)      # gamma, gain: gain*(I**gamma)\n",
    "#I2 = exposure.adjust_log(I1, 1.0)             # gain: gain*log2(I+1)\n",
    "I2 = exposure.adjust_log(I1, 1.0, inv=True)   # gain: gain*(2**I-1)\n",
    "\n",
    "print_imginfo(I2)\n",
    "show_imghist(I2)"
   ]
  },
  {
   "cell_type": "markdown",
   "id": "fba03cae",
   "metadata": {},
   "source": [
    "## Sigmoid Correction"
   ]
  },
  {
   "cell_type": "code",
   "execution_count": null,
   "id": "be191094",
   "metadata": {
    "scrolled": false
   },
   "outputs": [],
   "source": [
    "I2 = exposure.adjust_sigmoid(I1, 0.5, 5.0)      # cutoff, gain: 1/(1+exp(gain*(cutoff-I)))\n",
    "\n",
    "print_imginfo(I2)\n",
    "show_imghist(I2)"
   ]
  },
  {
   "cell_type": "markdown",
   "id": "68eba786",
   "metadata": {},
   "source": [
    "## Logical Operations: Masking"
   ]
  },
  {
   "cell_type": "code",
   "execution_count": null,
   "id": "c1a04e27",
   "metadata": {
    "scrolled": true
   },
   "outputs": [],
   "source": [
    "def circular_mask(I, radius=None):\n",
    "    h, w = I.shape\n",
    "    center = (int(h/2), int(w/2))\n",
    "    if radius is None:\n",
    "        radius = min(h-center[0], w-center[1])\n",
    "\n",
    "    X, Y = np.ogrid[:h, :w]\n",
    "    dist_from_center = np.sqrt((X - center[0])**2 + (Y-center[1])**2)\n",
    "\n",
    "    mask = np.where(dist_from_center <= radius, 1.0, 0.0)\n",
    "    return mask\n",
    "\n",
    "M = circular_mask(I1,128)\n",
    "I2 = np.multiply(M, I1)\n",
    "\n",
    "print_imginfo(I2)\n",
    "show_imghist(I2)"
   ]
  },
  {
   "cell_type": "markdown",
   "id": "4e6d87c5",
   "metadata": {},
   "source": [
    "## Arithmetic Operations: Alpha-Blending using Addition"
   ]
  },
  {
   "cell_type": "code",
   "execution_count": null,
   "id": "3bd20005",
   "metadata": {},
   "outputs": [],
   "source": [
    "F1 = io.imread(\"../../images/messi.jpg\", as_gray=True)\n",
    "F1 = img_as_float(F1)\n",
    "\n",
    "F2 = io.imread(\"../../images/ronaldo.jpg\", as_gray=True)\n",
    "F2 = img_as_float(F2)\n",
    "\n",
    "fig = plt.figure(figsize=(10,8))\n",
    "\n",
    "i = 1\n",
    "for alpha in np.linspace(0,1,20):\n",
    "    plt.subplot(4,5,i)\n",
    "    plt.imshow((1-alpha)*F1+alpha*F2, cmap='gray')\n",
    "    plt.axis('off')\n",
    "    i += 1\n",
    "plt.subplots_adjust(wspace=0.05, hspace=0.05)\n",
    "plt.show()"
   ]
  },
  {
   "cell_type": "markdown",
   "id": "226da59e",
   "metadata": {},
   "source": [
    "## Arithmetic Operations: Motion Detection using Subtraction"
   ]
  },
  {
   "cell_type": "code",
   "execution_count": null,
   "id": "14fb76ca",
   "metadata": {
    "scrolled": false
   },
   "outputs": [],
   "source": [
    "G1 = io.imread(\"../../images/goal1.png\", as_gray=True)\n",
    "G1 = img_as_float(G1)\n",
    "\n",
    "G2 = io.imread(\"../../images/goal2.png\", as_gray=True)\n",
    "G2 = img_as_float(G2)\n",
    "\n",
    "G3 = G1 - G2\n",
    "G4 = np.where(0.10 < np.abs(G3), 1.0, 0.0)\n",
    "\n",
    "fig = plt.figure(figsize=(11,6))\n",
    "\n",
    "plt.subplot(2,2,1); plt.imshow(G1, cmap='gray'); plt.axis('off')\n",
    "plt.subplot(2,2,2); plt.imshow(G2, cmap='gray'); plt.axis('off')\n",
    "plt.subplot(2,2,3); plt.imshow(G3, cmap='gray'); plt.axis('off')\n",
    "plt.subplot(2,2,4); plt.imshow(G4, cmap='gray'); plt.axis('off')\n",
    "plt.subplots_adjust(wspace=0.05, hspace=0.05)\n",
    "plt.show()"
   ]
  }
 ],
 "metadata": {
  "kernelspec": {
   "display_name": "Python 3 (ipykernel)",
   "language": "python",
   "name": "python3"
  },
  "language_info": {
   "codemirror_mode": {
    "name": "ipython",
    "version": 3
   },
   "file_extension": ".py",
   "mimetype": "text/x-python",
   "name": "python",
   "nbconvert_exporter": "python",
   "pygments_lexer": "ipython3",
   "version": "3.9.15"
  }
 },
 "nbformat": 4,
 "nbformat_minor": 5
}
