{
 "cells": [
  {
   "cell_type": "markdown",
   "id": "419560c8",
   "metadata": {},
   "source": [
    "# Image Enhancement: Histogram Methods"
   ]
  },
  {
   "cell_type": "code",
   "execution_count": null,
   "id": "4aa59009",
   "metadata": {},
   "outputs": [],
   "source": [
    "%matplotlib inline\n",
    "\n",
    "import numpy as np\n",
    "\n",
    "import matplotlib.image as img\n",
    "import matplotlib.pyplot as plt\n",
    "\n",
    "from skimage import io\n",
    "from skimage import exposure\n",
    "from skimage.util import img_as_float32 as img_as_float"
   ]
  },
  {
   "cell_type": "code",
   "execution_count": null,
   "id": "1945f0f4",
   "metadata": {},
   "outputs": [],
   "source": [
    "def print_imginfo(I):\n",
    "    print(type(I))\n",
    "    print(I.shape, I.dtype)\n",
    "    print('Data range:', np.min(I), 'to', np.max(I))"
   ]
  },
  {
   "cell_type": "code",
   "execution_count": null,
   "id": "fccd02a7",
   "metadata": {},
   "outputs": [],
   "source": [
    "def show_imghist(I):\n",
    "    fig, ax = plt.subplots(1, 2, figsize=(10,3))\n",
    "    \n",
    "    ax[0].imshow(I, cmap='gray', vmin=0.0, vmax=1.0)\n",
    "    ax[0].set_axis_off()\n",
    "    \n",
    "    ax[1].hist(I.ravel(), lw=0, bins=256);\n",
    "    ax[1].set_xlim(0.0,1.0)\n",
    "    ax[1].set_yticks([])"
   ]
  },
  {
   "cell_type": "code",
   "execution_count": null,
   "id": "46a8cb1f",
   "metadata": {
    "scrolled": true
   },
   "outputs": [],
   "source": [
    "I1 = io.imread(\"../../images/earthfromsky.jpg\", as_gray=True)\n",
    "I1 = img_as_float(I1)\n",
    "\n",
    "print_imginfo(I1)\n",
    "show_imghist(I1)\n"
   ]
  },
  {
   "cell_type": "markdown",
   "id": "ecf944fb",
   "metadata": {},
   "source": [
    "## Histogram Equalization"
   ]
  },
  {
   "cell_type": "code",
   "execution_count": null,
   "id": "5b9c2887",
   "metadata": {
    "scrolled": true
   },
   "outputs": [],
   "source": [
    "I2 = exposure.equalize_hist(I1, nbins=256)\n",
    "\n",
    "print_imginfo(I2)\n",
    "show_imghist(I2)"
   ]
  },
  {
   "cell_type": "markdown",
   "id": "b24f1030",
   "metadata": {},
   "source": [
    "## Contrast Limited Adaptive Histogram Equalization "
   ]
  },
  {
   "cell_type": "code",
   "execution_count": null,
   "id": "92cd5848",
   "metadata": {
    "scrolled": false
   },
   "outputs": [],
   "source": [
    "# Apply histogram equalization based on CDF computed for smaller regions\n",
    "# Clip histogram before computing CDF to limit slope of transformation\n",
    "I2 = exposure.equalize_adapthist(I1, kernel_size=50, clip_limit=0.02, nbins=256)  \n",
    "\n",
    "print_imginfo(I2)\n",
    "show_imghist(I2)"
   ]
  },
  {
   "cell_type": "markdown",
   "id": "6cfaca62",
   "metadata": {},
   "source": [
    "## Histogram Matching"
   ]
  },
  {
   "cell_type": "code",
   "execution_count": null,
   "id": "357d04fb",
   "metadata": {},
   "outputs": [],
   "source": [
    "I2 = io.imread(\"../../images/parrot.png\", as_gray=True)\n",
    "I2 = img_as_float(I2)\n",
    "\n",
    "I3 = exposure.match_histograms(I1, I2)\n",
    "\n",
    "show_imghist(I2)\n",
    "show_imghist(I3)"
   ]
  }
 ],
 "metadata": {
  "kernelspec": {
   "display_name": "Python 3 (ipykernel)",
   "language": "python",
   "name": "python3"
  },
  "language_info": {
   "codemirror_mode": {
    "name": "ipython",
    "version": 3
   },
   "file_extension": ".py",
   "mimetype": "text/x-python",
   "name": "python",
   "nbconvert_exporter": "python",
   "pygments_lexer": "ipython3",
   "version": "3.9.15"
  }
 },
 "nbformat": 4,
 "nbformat_minor": 5
}
