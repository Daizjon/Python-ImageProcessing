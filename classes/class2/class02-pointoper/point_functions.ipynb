{
 "cells": [
  {
   "cell_type": "code",
   "execution_count": null,
   "id": "c1862a9f",
   "metadata": {},
   "outputs": [],
   "source": [
    "%matplotlib inline\n",
    "\n",
    "import numpy as np\n",
    "\n",
    "import matplotlib.image as img\n",
    "import matplotlib.pyplot as plt"
   ]
  },
  {
   "cell_type": "markdown",
   "id": "d81e5f5d",
   "metadata": {},
   "source": [
    "## Gamma correction"
   ]
  },
  {
   "cell_type": "code",
   "execution_count": null,
   "id": "44bff9aa",
   "metadata": {
    "scrolled": false
   },
   "outputs": [],
   "source": [
    "r = np.linspace(0,1,100)\n",
    "\n",
    "gain = 1\n",
    "s1 = gain*(r**20.0)  # expansion\n",
    "s2 = gain*(r**0.05)  # compression\n",
    "\n",
    "plt.plot(r,s1)\n",
    "plt.plot(r,s2)\n",
    "plt.legend(['s1','s2'])\n",
    "plt.show()"
   ]
  },
  {
   "cell_type": "markdown",
   "id": "b143e5de",
   "metadata": {},
   "source": [
    "## Log correction"
   ]
  },
  {
   "cell_type": "code",
   "execution_count": null,
   "id": "da388572",
   "metadata": {
    "scrolled": false
   },
   "outputs": [],
   "source": [
    "r = np.linspace(0,1,100)\n",
    "\n",
    "gain = 1.4142\n",
    "s1 = gain*np.log2(1+r)\n",
    "s2 = gain*(2**r-1)\n",
    "\n",
    "plt.plot(r,s1)\n",
    "plt.plot(r,s2)\n",
    "plt.legend(['s1','s2'])\n",
    "plt.show()"
   ]
  },
  {
   "cell_type": "markdown",
   "id": "ae52f272",
   "metadata": {},
   "source": [
    "## Sigmoid correction"
   ]
  },
  {
   "cell_type": "code",
   "execution_count": null,
   "id": "cb16ea39",
   "metadata": {
    "scrolled": false
   },
   "outputs": [],
   "source": [
    "r = np.linspace(0,1,100)\n",
    "\n",
    "gain = 100\n",
    "cutoff = 0.75\n",
    "s1 = 1/(1+np.exp(gain*(cutoff-r)))\n",
    "s2 = 1 - s1\n",
    "\n",
    "plt.plot(r,s1)\n",
    "plt.plot(r,s2)\n",
    "plt.legend(['s1','s2'])\n",
    "plt.show()"
   ]
  }
 ],
 "metadata": {
  "kernelspec": {
   "display_name": "Python 3 (ipykernel)",
   "language": "python",
   "name": "python3"
  },
  "language_info": {
   "codemirror_mode": {
    "name": "ipython",
    "version": 3
   },
   "file_extension": ".py",
   "mimetype": "text/x-python",
   "name": "python",
   "nbconvert_exporter": "python",
   "pygments_lexer": "ipython3",
   "version": "3.9.15"
  }
 },
 "nbformat": 4,
 "nbformat_minor": 5
}
