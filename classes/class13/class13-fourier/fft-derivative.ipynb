{
 "cells": [
  {
   "cell_type": "markdown",
   "id": "419560c8",
   "metadata": {},
   "source": [
    "# FFT Basics: Derivative"
   ]
  },
  {
   "cell_type": "code",
   "execution_count": null,
   "id": "4aa59009",
   "metadata": {},
   "outputs": [],
   "source": [
    "%matplotlib inline\n",
    "\n",
    "import numpy as np\n",
    "\n",
    "import matplotlib.pyplot as plt\n",
    "\n",
    "from scipy.fft import fft, ifft, fftshift"
   ]
  },
  {
   "cell_type": "code",
   "execution_count": null,
   "id": "92ebe033",
   "metadata": {},
   "outputs": [],
   "source": [
    "def plot(f, titles=None):\n",
    "    fig, ax = plt.subplots(1, len(f), figsize=(12,3))\n",
    "    \n",
    "    for i in np.arange(0, len(f)):\n",
    "        N = len(f[i])\n",
    "        ax[i].plot(f[i])\n",
    "        ax[i].grid()\n",
    "        ax[i].set_xticks(np.arange(0,N+1,N/4))\n",
    "        if titles != None:\n",
    "            ax[i].set_title(titles[i])               \n",
    "    \n",
    "    fig.tight_layout()"
   ]
  },
  {
   "cell_type": "code",
   "execution_count": null,
   "id": "4a660553",
   "metadata": {
    "scrolled": false
   },
   "outputs": [],
   "source": [
    "N = 128\n",
    "\n",
    "T = 2.0*np.pi\n",
    "x = np.linspace(0, T*(N-1)/N, N)\n",
    "\n",
    "jn = 1j*(2*np.pi/T)*fftshift(np.arange(-N//2,N//2))\n",
    "\n",
    "f0 = np.exp(-np.cos(x))\n",
    "f1 = np.sin(x)*f0\n",
    "f2 = np.cos(x)*f0 + np.sin(x)*f1\n",
    "              \n",
    "d0 = np.real(ifft((jn**0)*fft(f0)))\n",
    "d1 = np.real(ifft((jn**1)*fft(f0)))\n",
    "d2 = np.real(ifft((jn**2)*fft(f0)))\n",
    "   \n",
    "plot([f0,    f1,    f2],    ['exp(-cos)',          'first derivative','second derivative'])\n",
    "plot([f0-d0, f1-d1, f2-d2], ['forward-inverse fft','first derivative','second derivative'])\n"
   ]
  }
 ],
 "metadata": {
  "kernelspec": {
   "display_name": "Python 3 (ipykernel)",
   "language": "python",
   "name": "python3"
  },
  "language_info": {
   "codemirror_mode": {
    "name": "ipython",
    "version": 3
   },
   "file_extension": ".py",
   "mimetype": "text/x-python",
   "name": "python",
   "nbconvert_exporter": "python",
   "pygments_lexer": "ipython3",
   "version": "3.9.15"
  }
 },
 "nbformat": 4,
 "nbformat_minor": 5
}
