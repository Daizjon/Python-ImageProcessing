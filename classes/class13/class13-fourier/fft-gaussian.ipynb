{
 "cells": [
  {
   "cell_type": "markdown",
   "id": "419560c8",
   "metadata": {},
   "source": [
    "# FFT Basics: Gaussian"
   ]
  },
  {
   "cell_type": "code",
   "execution_count": null,
   "id": "4aa59009",
   "metadata": {},
   "outputs": [],
   "source": [
    "%matplotlib inline\n",
    "\n",
    "import numpy as np\n",
    "\n",
    "import matplotlib.pyplot as plt\n",
    "\n",
    "from scipy import signal\n",
    "from scipy.fft import fft, fftshift"
   ]
  },
  {
   "cell_type": "code",
   "execution_count": null,
   "id": "92ebe033",
   "metadata": {},
   "outputs": [],
   "source": [
    "def plot(f, titles=None):\n",
    "    fig, ax = plt.subplots(1, len(f), figsize=(12,3))\n",
    "    \n",
    "    for i in np.arange(0, len(f)):\n",
    "        N = len(f[i])\n",
    "        ax[i].plot(f[i])\n",
    "        ax[i].grid()\n",
    "        ax[i].set_xticks(np.arange(0,N+1,N/4))\n",
    "        if titles != None:\n",
    "            ax[i].set_title(titles[i])               \n",
    "    \n",
    "    fig.tight_layout()"
   ]
  },
  {
   "cell_type": "code",
   "execution_count": null,
   "id": "e0c4ccae",
   "metadata": {},
   "outputs": [],
   "source": [
    "def gaussian(sigma, N):\n",
    "    K = np.int32(np.ceil(4*sigma))\n",
    "    \n",
    "    h = signal.windows.gaussian(2*K+1, sigma)\n",
    "    h /= np.sum(h)\n",
    "    \n",
    "    h = np.pad(h, (N//2-K, N//2-K-1))\n",
    "    \n",
    "    return h"
   ]
  },
  {
   "cell_type": "code",
   "execution_count": null,
   "id": "4a660553",
   "metadata": {
    "scrolled": false
   },
   "outputs": [],
   "source": [
    "N = 128\n",
    "\n",
    "sigma = 2\n",
    "#sigma = 1/(2*np.pi*sigma/N)\n",
    "\n",
    "f = gaussian(sigma, N)\n",
    "#f = fftshift(f)\n",
    "F = fft(f, n=N, norm=\"backward\") # forward, ortho, backward\n",
    "#F = fftshift(F)\n",
    "\n",
    "plot([f, np.abs(F)], ['Gaussian','FFT: |F|'])\n",
    "plot([np.real(F), np.imag(F)], ['FFT: F.real','FFT: F.imag'])"
   ]
  }
 ],
 "metadata": {
  "kernelspec": {
   "display_name": "Python 3 (ipykernel)",
   "language": "python",
   "name": "python3"
  },
  "language_info": {
   "codemirror_mode": {
    "name": "ipython",
    "version": 3
   },
   "file_extension": ".py",
   "mimetype": "text/x-python",
   "name": "python",
   "nbconvert_exporter": "python",
   "pygments_lexer": "ipython3",
   "version": "3.9.15"
  }
 },
 "nbformat": 4,
 "nbformat_minor": 5
}
