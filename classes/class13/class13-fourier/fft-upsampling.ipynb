{
 "cells": [
  {
   "cell_type": "markdown",
   "id": "419560c8",
   "metadata": {},
   "source": [
    "# FFT Basics: Upsampling"
   ]
  },
  {
   "cell_type": "code",
   "execution_count": null,
   "id": "4aa59009",
   "metadata": {},
   "outputs": [],
   "source": [
    "%matplotlib inline\n",
    "\n",
    "import numpy as np\n",
    "\n",
    "import matplotlib.pyplot as plt\n",
    "\n",
    "from scipy.fft import fft, ifft, fftshift, fftfreq"
   ]
  },
  {
   "cell_type": "code",
   "execution_count": null,
   "id": "92ebe033",
   "metadata": {},
   "outputs": [],
   "source": [
    "def plot(f, F, titles=None):\n",
    "    fig, ax = plt.subplots(1, 2, figsize=(12,3))\n",
    "    \n",
    "    N = len(f)\n",
    "    x = np.arange(0, N)\n",
    "    ax[0].plot(x, f, linewidth=1.0)\n",
    "    ax[0].plot(x, f, 'ko', markersize=1.2)\n",
    "    ax[0].grid()\n",
    "    ax[0].set_xticks(np.arange(0, N+1, N/4))\n",
    "    if titles != None:\n",
    "        ax[0].set_title(titles[0])\n",
    "        \n",
    "    N = len(F)\n",
    "    x = N*fftshift(fftfreq(N, 1))\n",
    "    ax[1].plot(x, F, linewidth=1)\n",
    "    ax[1].set_xlim(-N//2, N//2)\n",
    "    ax[1].grid()\n",
    "    if titles != None:\n",
    "        ax[1].set_title(titles[1])         \n",
    "    fig.tight_layout()"
   ]
  },
  {
   "cell_type": "code",
   "execution_count": null,
   "id": "4a660553",
   "metadata": {
    "scrolled": false
   },
   "outputs": [],
   "source": [
    "T = 2.0*np.pi\n",
    "N = 32\n",
    "M = 4\n",
    "\n",
    "x = np.arange(0, N)\n",
    "\n",
    "f1 = np.sin(12*T*x/N)\n",
    "F1 = fft(f1)\n",
    "\n",
    "plot(f1, np.imag(fftshift(F1)), ['Signal','Fourier Spectrum'])\n",
    "\n",
    "F2 = fftshift(F1)\n",
    "F2 = np.pad(F2, (M-1)*N+N//2)\n",
    "F2 = fftshift(F2)\n",
    "\n",
    "F2 *= F2.shape[0]/F1.shape[0]\n",
    "\n",
    "f2 = np.real(ifft(F2))\n",
    "\n",
    "plot(f2, np.imag(fftshift(F2)), ['Upsampled Signal','Zero-Padded Fourier Spectrum'])"
   ]
  }
 ],
 "metadata": {
  "kernelspec": {
   "display_name": "Python 3 (ipykernel)",
   "language": "python",
   "name": "python3"
  },
  "language_info": {
   "codemirror_mode": {
    "name": "ipython",
    "version": 3
   },
   "file_extension": ".py",
   "mimetype": "text/x-python",
   "name": "python",
   "nbconvert_exporter": "python",
   "pygments_lexer": "ipython3",
   "version": "3.9.15"
  }
 },
 "nbformat": 4,
 "nbformat_minor": 5
}
