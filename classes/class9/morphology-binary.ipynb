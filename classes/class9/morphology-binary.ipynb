{
 "cells": [
  {
   "cell_type": "markdown",
   "id": "419560c8",
   "metadata": {},
   "source": [
    "# Morphology: Binary Methods"
   ]
  },
  {
   "cell_type": "code",
   "execution_count": null,
   "id": "4aa59009",
   "metadata": {},
   "outputs": [],
   "source": [
    "%matplotlib inline\n",
    "\n",
    "import time\n",
    "\n",
    "import numpy as np\n",
    "\n",
    "import matplotlib.image as img\n",
    "import matplotlib.pyplot as plt\n",
    "\n",
    "from skimage import data, io\n",
    "from skimage.util import img_as_ubyte, invert\n",
    "\n",
    "from skimage.morphology import disk, square\n",
    "from skimage.morphology import thin, medial_axis\n",
    "from skimage.morphology import area_opening\n",
    "from skimage.morphology import convex_hull_image, convex_hull_object\n",
    "\n",
    "from scipy.ndimage import binary_dilation, binary_erosion\n",
    "from scipy.ndimage import binary_opening, binary_closing"
   ]
  },
  {
   "cell_type": "code",
   "execution_count": null,
   "id": "ad2df62b",
   "metadata": {},
   "outputs": [],
   "source": [
    "def show_images(I, titles=None):\n",
    "    fig, ax = plt.subplots(1, len(I), figsize=(12,12))\n",
    "    \n",
    "    for i in np.arange(0,len(I)):\n",
    "        ax[i].imshow(I[i], cmap='gray')\n",
    "        ax[i].set_axis_off()\n",
    "        if titles != None:\n",
    "            ax[i].set_title(titles[i])"
   ]
  },
  {
   "cell_type": "code",
   "execution_count": null,
   "id": "d237546b",
   "metadata": {
    "scrolled": true
   },
   "outputs": [],
   "source": [
    "I = io.imread(\"../../images/blobs.png\", as_gray=True)\n",
    "I = img_as_ubyte(I)\n",
    "\n",
    "B1 = np.where(I<70, False, True)\n",
    "B2 = np.where(I<128, False, True)\n",
    "B3 = np.where(I<150, False, True)\n",
    "\n",
    "show_images([B1,B2,B3], ['Low Threshold','Medium Threshold','High Threshold'])"
   ]
  },
  {
   "cell_type": "code",
   "execution_count": null,
   "id": "6fa7380d",
   "metadata": {},
   "outputs": [],
   "source": [
    "for N in [1,2]:\n",
    "    print(disk(N),'\\n')\n",
    "    \n",
    "for N in [3,5]:\n",
    "    print(square(N),'\\n')"
   ]
  },
  {
   "cell_type": "code",
   "execution_count": null,
   "id": "675d0133",
   "metadata": {
    "scrolled": true
   },
   "outputs": [],
   "source": [
    "B = np.copy(B2)\n",
    "\n",
    "SE = disk(1)\n",
    "OP = binary_dilation # dilation, erosion, opening, closing\n",
    "\n",
    "Bk = [B]\n",
    "Tk = [0]\n",
    "\n",
    "for k in [1,2]:\n",
    "    BSE = OP(B, SE, iterations=k)\n",
    "    Bk.append(BSE)\n",
    "    Tk.append(k)\n",
    "\n",
    "show_images(Bk, Tk)"
   ]
  },
  {
   "cell_type": "code",
   "execution_count": null,
   "id": "d3345efc",
   "metadata": {
    "scrolled": false
   },
   "outputs": [],
   "source": [
    "B = np.copy(B2)\n",
    "\n",
    "SE4 = disk(1)\n",
    "SE8 = square(3)\n",
    "\n",
    "B4 = np.bitwise_and(B, np.invert(binary_erosion(B, SE4))) # Boundary w/8-connectivity\n",
    "B8 = np.bitwise_and(B, np.invert(binary_erosion(B, SE8))) # Boundary w/4-connectivity\n",
    "SD = B4^B8\n",
    "\n",
    "show_images([B4,B8,SD],['SE4','SE8','Set Difference'])"
   ]
  },
  {
   "cell_type": "code",
   "execution_count": null,
   "id": "2beee948",
   "metadata": {
    "scrolled": false
   },
   "outputs": [],
   "source": [
    "B = np.copy(B2)\n",
    "\n",
    "M1 = np.bitwise_and(B, invert(thin(B)))\n",
    "M2 = np.bitwise_and(B, invert(medial_axis(B)))\n",
    "M,D = medial_axis(B, return_distance=True)\n",
    "\n",
    "show_images([M1,M2,D],['Thinning','Medial Axis','Distance Map'])"
   ]
  },
  {
   "cell_type": "code",
   "execution_count": null,
   "id": "7d64273f",
   "metadata": {
    "scrolled": true
   },
   "outputs": [],
   "source": [
    "B = area_opening(B2, 500, connectivity=1)\n",
    "\n",
    "C1 = convex_hull_image(B)\n",
    "C2 = convex_hull_object(B, connectivity=1)\n",
    "\n",
    "C1 = img_as_ubyte(C1)//2\n",
    "C2 = img_as_ubyte(C2)//2\n",
    "\n",
    "C1[B] = 255\n",
    "C2[B] = 255\n",
    "\n",
    "show_images([B,C1,C2],['Area Opening','Convex Hull Image','Convex Hull Object'])"
   ]
  }
 ],
 "metadata": {
  "kernelspec": {
   "display_name": "Python 3 (ipykernel)",
   "language": "python",
   "name": "python3"
  },
  "language_info": {
   "codemirror_mode": {
    "name": "ipython",
    "version": 3
   },
   "file_extension": ".py",
   "mimetype": "text/x-python",
   "name": "python",
   "nbconvert_exporter": "python",
   "pygments_lexer": "ipython3",
   "version": "3.9.15"
  }
 },
 "nbformat": 4,
 "nbformat_minor": 5
}
