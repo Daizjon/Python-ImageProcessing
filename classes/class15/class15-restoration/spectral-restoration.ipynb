{
 "cells": [
  {
   "cell_type": "markdown",
   "id": "419560c8",
   "metadata": {},
   "source": [
    "# Spectral Restoration: Deconvolution\n",
    "\n",
    "Images distorted by known linear blur and additive white noise, i.e., $g=f*h+n$, can be (somewhat) recovered using deconvolution. The parametric Wiener filter produces $\\hat{f} = w * g$ for which $E (f-\\hat{f})^2$ is minimized. The computation can be done in the Fourier space:\n",
    "\n",
    "$$ \\hat{f} = {\\cal F}^{-1}\\{ W\\, {\\cal F} \\{ g \\} \\}$$\n",
    "\n",
    "$$W(u,v) = \\dfrac{H^*(u,v)}{|H(u,v)|^2 + \\gamma\\, |R(u,v)|^2}$$\n",
    "\n",
    "where $\\gamma$ is a user-defined scalar and $|R(u,v)|^2 = 1/\\text{PSNR}(u,v)$. \n",
    "A simple version might use the approximation $\\text{PSNR} =\\sigma^2_f/\\sigma^2_n$. A more sophisticated version\n",
    "would use the ratio of the actual signal and noise power spectra, namely,\n",
    "$\\text{PSNR}(u,v) = S_\\text{ff}(u,v)/S_\\text{nn}(u,v)$. The spectral information must be estimated if not known. A third version might simply penalize high-frequency content by using $R(u,v) = -4\\pi^2(u^2+v^2)$ which you may recognize as the Fourier transform of the Laplacian."
   ]
  },
  {
   "cell_type": "code",
   "execution_count": null,
   "id": "4aa59009",
   "metadata": {},
   "outputs": [],
   "source": [
    "%matplotlib inline\n",
    "\n",
    "import numpy as np\n",
    "\n",
    "import matplotlib.image as img\n",
    "import matplotlib.pyplot as plt\n",
    "\n",
    "from skimage import io, exposure\n",
    "\n",
    "from scipy.fft import fft2, ifft2, fftshift\n",
    "from scipy.ndimage import convolve\n",
    "\n",
    "from skimage.util import random_noise\n",
    "from skimage.util import img_as_float32 as img_as_float"
   ]
  },
  {
   "cell_type": "code",
   "execution_count": null,
   "id": "c2710222",
   "metadata": {},
   "outputs": [],
   "source": [
    "def show_images(I, titles=None):\n",
    "    fig, ax = plt.subplots(1, len(I), figsize=(12,5))        \n",
    " \n",
    "    for i in np.arange(0,len(I)):\n",
    "        ax[i].imshow(I[i], cmap='gray')\n",
    "        ax[i].set_axis_off()\n",
    "        if titles != None:\n",
    "            ax[i].set_title(titles[i])\n",
    "        \n",
    "    plt.tight_layout()"
   ]
  },
  {
   "cell_type": "code",
   "execution_count": null,
   "id": "40f5e65d",
   "metadata": {},
   "outputs": [],
   "source": [
    "def show_plots(I, titles=None):\n",
    "    fig, ax = plt.subplots(1, len(I), figsize=(12,1))\n",
    " \n",
    "    for i in np.arange(0,len(I)):\n",
    "        if titles != None:\n",
    "            ax[i].set_title(titles[i])\n",
    "        \n",
    "        r = I[i].shape[0]//2\n",
    "        ax[i].plot(I[i][r,:])\n",
    "        ax[i].set_xticks([])\n",
    "        ax[i].set_yticks([])\n",
    "        \n",
    "    plt.tight_layout()"
   ]
  },
  {
   "cell_type": "code",
   "execution_count": null,
   "id": "460bd0ab",
   "metadata": {},
   "outputs": [],
   "source": [
    "def nextpow2(N):\n",
    "    n = 1\n",
    "    while (n<N):\n",
    "        n *= 2\n",
    "    return n"
   ]
  },
  {
   "cell_type": "code",
   "execution_count": null,
   "id": "b6295001",
   "metadata": {
    "scrolled": true
   },
   "outputs": [],
   "source": [
    "I1 = io.imread(\"../../images/parrot.jpg\", as_gray=True)\n",
    "I1 = img_as_float(I1)"
   ]
  },
  {
   "cell_type": "code",
   "execution_count": null,
   "id": "e7000024",
   "metadata": {},
   "outputs": [],
   "source": [
    "M, N = I1.shape\n",
    "M2, N2 = (2*nextpow2(M), 2*nextpow2(N))"
   ]
  },
  {
   "cell_type": "markdown",
   "id": "b71402d3",
   "metadata": {},
   "source": [
    "## Parametric Wiener Filter"
   ]
  },
  {
   "cell_type": "code",
   "execution_count": null,
   "id": "043a36bc",
   "metadata": {},
   "outputs": [],
   "source": [
    "def wiener_filter(I, h, gamma, PSNR=None, clip=False):\n",
    "    F = fft2(I, (M2,N2))\n",
    "    H = fft2(h, (M2,N2))\n",
    "    \n",
    "    if PSNR is None:\n",
    "        u, v = np.mgrid[-M2//2:M2//2,-N2//2:N2//2]\n",
    "        R = -4*np.pi**2*(fftshift((u/M2)**2+(v/N2)**2))\n",
    "        W = np.conj(H)/(np.abs(H)**2 + gamma*R**2)\n",
    "    else:   \n",
    "        if clip == True:\n",
    "            PSNR = np.clip(PSNR, 0, 1)\n",
    "        W = np.conj(H)/(np.abs(H)**2 + gamma*(1/PSNR))\n",
    "    \n",
    "    Ip = np.real(ifft2(W*F))\n",
    "    \n",
    "    KM, KN = h.shape\n",
    "    M0, N0 = (M2//2-KM//2, N2//2-KN//2)\n",
    "    Ip = fftshift(Ip)[M0:M0+M,N0:N0+N]\n",
    "    \n",
    "    Ip = np.clip(Ip, 0, 1)\n",
    "    \n",
    "    #print(M, KM, M2, N, KN, N2)\n",
    " \n",
    "    return img_as_float(Ip)"
   ]
  },
  {
   "cell_type": "markdown",
   "id": "d34ddbfc",
   "metadata": {},
   "source": [
    "## Example: Gaussian Blur"
   ]
  },
  {
   "cell_type": "code",
   "execution_count": null,
   "id": "f10ccd5a",
   "metadata": {},
   "outputs": [],
   "source": [
    "def gaussian(sigma=1.0, truncate=4.0):\n",
    "    K = np.int32(np.ceil(truncate*sigma))\n",
    "    \n",
    "    u, v = np.mgrid[-K:K+1,-K:K+1]\n",
    "    \n",
    "    h = np.exp(-0.5*(u**2+v**2)/(sigma**2))\n",
    "    h /= h.sum()\n",
    "\n",
    "    return h"
   ]
  },
  {
   "cell_type": "code",
   "execution_count": null,
   "id": "6778e80e",
   "metadata": {},
   "outputs": [],
   "source": [
    "sigma_f = np.std(I1)\n",
    "\n",
    "sigma_h = 2\n",
    "sigma_n = 0.20"
   ]
  },
  {
   "cell_type": "code",
   "execution_count": null,
   "id": "6890b6a2",
   "metadata": {},
   "outputs": [],
   "source": [
    "h = gaussian(sigma_h)\n",
    "Ih = convolve(I1, h, mode='constant')"
   ]
  },
  {
   "cell_type": "code",
   "execution_count": null,
   "id": "1968f9fa",
   "metadata": {},
   "outputs": [],
   "source": [
    "In = random_noise(np.zeros_like(I1), mode='gaussian', var=sigma_n**2, clip=False)"
   ]
  },
  {
   "cell_type": "code",
   "execution_count": null,
   "id": "dd4b8064",
   "metadata": {},
   "outputs": [],
   "source": [
    "Ic = np.clip(Ih + In, 0, 1)\n",
    "In = Ic - Ih"
   ]
  },
  {
   "cell_type": "code",
   "execution_count": null,
   "id": "409a04fd",
   "metadata": {
    "scrolled": false
   },
   "outputs": [],
   "source": [
    "# Gaussian blur, no noise, PSNR=const approximation\n",
    "\n",
    "IP = wiener_filter(Ih, h, 0.001, PSNR=1)\n",
    "IR = wiener_filter(Ih, h, 0.001)\n",
    "\n",
    "I2 = IP\n",
    "\n",
    "show_images([I1, Ih, I2], ['Original','Blur','Wiener Filter'])\n",
    "show_plots([I1, Ih, I2])"
   ]
  },
  {
   "cell_type": "code",
   "execution_count": null,
   "id": "65050d22",
   "metadata": {
    "scrolled": false
   },
   "outputs": [],
   "source": [
    "# Gaussian blur, white noise, PSNR=const\n",
    "\n",
    "IP = wiener_filter(Ic, h, 1, PSNR=sigma_f**2/sigma_n**2)\n",
    "IR = wiener_filter(Ic, h, 1)\n",
    "\n",
    "I2 = IP\n",
    "\n",
    "show_images([I1, Ic, I2], ['Original','Blur+Noise','Wiener Filter'])\n",
    "show_plots([I1, Ic, I2])"
   ]
  },
  {
   "cell_type": "code",
   "execution_count": null,
   "id": "f3f61aec",
   "metadata": {},
   "outputs": [],
   "source": [
    "# Gaussian blur, white noise, PSNR=known\n",
    "\n",
    "Sff = np.abs(fft2(I1, (M2,N2)))**2\n",
    "Snn = np.abs(fft2(In, (M2,N2)))**2\n",
    "\n",
    "IP = wiener_filter(Ic, h, 1, PSNR=Sff/Snn, clip=False)\n",
    "IR = wiener_filter(Ic, h, 2)\n",
    "\n",
    "I2 = IP\n",
    "\n",
    "show_images([I1, Ic, I2], ['Original','Blur+Noise','Wiener Filter'])\n",
    "show_plots([I1, Ic, I2])"
   ]
  }
 ],
 "metadata": {
  "kernelspec": {
   "display_name": "Python 3 (ipykernel)",
   "language": "python",
   "name": "python3"
  },
  "language_info": {
   "codemirror_mode": {
    "name": "ipython",
    "version": 3
   },
   "file_extension": ".py",
   "mimetype": "text/x-python",
   "name": "python",
   "nbconvert_exporter": "python",
   "pygments_lexer": "ipython3",
   "version": "3.9.15"
  }
 },
 "nbformat": 4,
 "nbformat_minor": 5
}
