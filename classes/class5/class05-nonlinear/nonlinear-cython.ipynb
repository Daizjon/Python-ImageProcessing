{
 "cells": [
  {
   "cell_type": "markdown",
   "id": "419560c8",
   "metadata": {},
   "source": [
    "# Image Filtering: Spatial Methods"
   ]
  },
  {
   "cell_type": "code",
   "execution_count": null,
   "id": "86d95926",
   "metadata": {},
   "outputs": [],
   "source": [
    "%load_ext cython"
   ]
  },
  {
   "cell_type": "code",
   "execution_count": null,
   "id": "4aa59009",
   "metadata": {},
   "outputs": [],
   "source": [
    "%matplotlib inline\n",
    "\n",
    "import numpy as np\n",
    "\n",
    "import matplotlib.image as img\n",
    "import matplotlib.pyplot as plt\n",
    "\n",
    "from skimage import io\n",
    "from skimage.filters import rank\n",
    "from skimage.util import img_as_ubyte\n",
    "\n",
    "from scipy.ndimage import convolve"
   ]
  },
  {
   "cell_type": "code",
   "execution_count": null,
   "id": "6856b1ba",
   "metadata": {},
   "outputs": [],
   "source": [
    "def print_imginfo(I):\n",
    "    print(type(I))\n",
    "    print(I.shape, I.dtype)\n",
    "    print('Data range:', np.min(I), 'to', np.max(I))"
   ]
  },
  {
   "cell_type": "code",
   "execution_count": null,
   "id": "47ab6f0a",
   "metadata": {
    "scrolled": true
   },
   "outputs": [],
   "source": [
    "I1 = io.imread(\"../../images/umbc.png\", as_gray=True)\n",
    "I1 = img_as_ubyte(I1) # needed for skimage.filters.rank\n",
    "\n",
    "#io.imshow(I1)"
   ]
  },
  {
   "cell_type": "code",
   "execution_count": null,
   "id": "3398bc75",
   "metadata": {},
   "outputs": [],
   "source": [
    "# add salt-and-pepper noise\n",
    "rng = np.random.default_rng(472)\n",
    "noise = rng.random(I1.shape)\n",
    "\n",
    "In = np.copy(I1)\n",
    "In[noise > 0.95] = 255\n",
    "In[noise < 0.05] = 0\n",
    "\n",
    "#io.imshow(In)"
   ]
  },
  {
   "cell_type": "markdown",
   "id": "22d617e2",
   "metadata": {},
   "source": [
    "## Non-Linear Filter: Kernel Masks (Footprints)"
   ]
  },
  {
   "cell_type": "code",
   "execution_count": null,
   "id": "e0c4ccae",
   "metadata": {},
   "outputs": [],
   "source": [
    "def box(N, M=None):\n",
    "    if M == None:\n",
    "        M = N\n",
    "        \n",
    "    h = np.ones((N,M))\n",
    "    return h"
   ]
  },
  {
   "cell_type": "markdown",
   "id": "612415f1",
   "metadata": {},
   "source": [
    "## Non-Linear Filter: Alpha-Trimmed Mean"
   ]
  },
  {
   "cell_type": "code",
   "execution_count": null,
   "id": "b427e470",
   "metadata": {
    "scrolled": true
   },
   "outputs": [],
   "source": [
    "%%cython\n",
    "import numpy as np  # this cell is standalone\n",
    "\n",
    "cpdef alphamean_filter(I, kernel, float alpha):\n",
    "    Ip = np.empty_like(I)\n",
    "    \n",
    "    cdef int h1 = kernel.shape[0], h0 = h1 // 2;\n",
    "    cdef int w1 = kernel.shape[1], w0 = w1 // 2;\n",
    "    \n",
    "    cdef int M, p\n",
    "    cdef int S, k\n",
    "    \n",
    "    Iz = np.pad(I, ((h0,h0),(w0,w0)), mode='reflect')\n",
    "    \n",
    "    for u in np.arange(0,I.shape[0]):\n",
    "        for v in np.arange(0,I.shape[1]):\n",
    "            values = Iz[u:u+h1, v:v+w1]  # slicing\n",
    "            values = np.extract(0 < kernel, values)\n",
    "            values = np.sort(values)\n",
    "            \n",
    "            M = values.size\n",
    "            #p = np.min([alpha*M, M/2])\n",
    "            #p = np.uint32(np.around(p))\n",
    "            p = int(alpha*M+0.5)\n",
    "            if p > M//2:\n",
    "                p = M//2\n",
    "            \n",
    "            #Ip[u][v] = np.mean(values[p:M-p])\n",
    "            S = 0\n",
    "            for k in range(p,M-p):\n",
    "                S += values[k]\n",
    "            Ip[u][v] = int(S/(M-2*p)+0.5)\n",
    "        \n",
    "    return Ip"
   ]
  },
  {
   "cell_type": "code",
   "execution_count": null,
   "id": "01c99bb8",
   "metadata": {
    "scrolled": false
   },
   "outputs": [],
   "source": [
    "%%time\n",
    "I3 = alphamean_filter(In, box(3), 0.45)\n",
    "io.imshow(I3)"
   ]
  }
 ],
 "metadata": {
  "kernelspec": {
   "display_name": "Python 3 (ipykernel)",
   "language": "python",
   "name": "python3"
  },
  "language_info": {
   "codemirror_mode": {
    "name": "ipython",
    "version": 3
   },
   "file_extension": ".py",
   "mimetype": "text/x-python",
   "name": "python",
   "nbconvert_exporter": "python",
   "pygments_lexer": "ipython3",
   "version": "3.9.15"
  }
 },
 "nbformat": 4,
 "nbformat_minor": 5
}
