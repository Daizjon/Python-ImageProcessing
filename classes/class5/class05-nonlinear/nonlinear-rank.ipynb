{
 "cells": [
  {
   "cell_type": "markdown",
   "id": "419560c8",
   "metadata": {},
   "source": [
    "# Image Filtering: Spatial Methods"
   ]
  },
  {
   "cell_type": "code",
   "execution_count": null,
   "id": "4aa59009",
   "metadata": {},
   "outputs": [],
   "source": [
    "%matplotlib inline\n",
    "\n",
    "import numpy as np\n",
    "\n",
    "import matplotlib.image as img\n",
    "import matplotlib.pyplot as plt\n",
    "\n",
    "from skimage import io\n",
    "from skimage.filters import rank\n",
    "from skimage.util import img_as_ubyte\n",
    "\n",
    "from scipy.ndimage import convolve"
   ]
  },
  {
   "cell_type": "code",
   "execution_count": null,
   "id": "6856b1ba",
   "metadata": {},
   "outputs": [],
   "source": [
    "def print_imginfo(I):\n",
    "    print(type(I))\n",
    "    print(I.shape, I.dtype)\n",
    "    print('Data range:', np.min(I), 'to', np.max(I))"
   ]
  },
  {
   "cell_type": "code",
   "execution_count": null,
   "id": "47ab6f0a",
   "metadata": {
    "scrolled": true
   },
   "outputs": [],
   "source": [
    "I1 = io.imread(\"../../images/umbc.png\", as_gray=True)\n",
    "I1 = img_as_ubyte(I1) # needed for skimage.filters.rank\n",
    "\n",
    "io.imshow(I1)"
   ]
  },
  {
   "cell_type": "code",
   "execution_count": null,
   "id": "3398bc75",
   "metadata": {},
   "outputs": [],
   "source": [
    "# add salt-and-pepper noise\n",
    "rng = np.random.default_rng(472)\n",
    "noise = rng.random(I1.shape)\n",
    "\n",
    "In = np.copy(I1)\n",
    "In[noise > 0.95] = 255\n",
    "In[noise < 0.05] = 0\n",
    "\n",
    "io.imshow(In)"
   ]
  },
  {
   "cell_type": "markdown",
   "id": "22d617e2",
   "metadata": {},
   "source": [
    "## Non-Linear Filter: Kernel Masks (Footprints)"
   ]
  },
  {
   "cell_type": "code",
   "execution_count": null,
   "id": "e0c4ccae",
   "metadata": {},
   "outputs": [],
   "source": [
    "def box(N, M=None):\n",
    "    if M == None:\n",
    "        M = N\n",
    "        \n",
    "    h = np.ones((N,M))\n",
    "    return h\n",
    "\n",
    "def disk(N):\n",
    "    radius = (N-1)/2\n",
    "    cu, cv = (N//2, N//2)\n",
    "\n",
    "    u, v = np.mgrid[:N, :N]\n",
    "    dist_from_center = np.sqrt((u-cu)**2+(v-cv)**2)\n",
    "\n",
    "    h = np.where(dist_from_center <= radius, 1, 0)\n",
    "    \n",
    "    return h"
   ]
  },
  {
   "cell_type": "markdown",
   "id": "612415f1",
   "metadata": {},
   "source": [
    "## Non-Linear Filter: Alpha-Trimmed Mean"
   ]
  },
  {
   "cell_type": "code",
   "execution_count": null,
   "id": "02923a0f",
   "metadata": {},
   "outputs": [],
   "source": [
    "def mean_filter(I, kernel):\n",
    "    h = kernel/kernel.sum()\n",
    "    Ip = convolve(I, h, mode='reflect')\n",
    "    return Ip"
   ]
  },
  {
   "cell_type": "code",
   "execution_count": null,
   "id": "319bda1f",
   "metadata": {},
   "outputs": [],
   "source": [
    "def alphamean_filter(I, kernel, alpha):\n",
    "    Ip = np.empty_like(I)\n",
    "    \n",
    "    h1 = kernel.shape[0]; h0 = h1 // 2;\n",
    "    w1 = kernel.shape[1]; w0 = w1 // 2;\n",
    "    \n",
    "    Iz = np.pad(I, ((h0,h0),(w0,w0)), mode='reflect')\n",
    "    \n",
    "    for u in np.arange(0, I.shape[0]):\n",
    "        for v in np.arange(0, I.shape[1]):\n",
    "            values = Iz[u:u+h1, v:v+w1]  # slicing\n",
    "            values = np.extract(0.0 < kernel, values)\n",
    "            values = np.sort(values)\n",
    "            \n",
    "            M = values.size\n",
    "            p = np.min([alpha*M, M/2])\n",
    "            p = np.uint32(np.around(p))\n",
    "            \n",
    "            Ip[u][v] = np.mean(values[p:M-p])\n",
    "            \n",
    "    return Ip"
   ]
  },
  {
   "cell_type": "code",
   "execution_count": null,
   "id": "7fe68b05",
   "metadata": {},
   "outputs": [],
   "source": [
    "%%time\n",
    "I2 = mean_filter(In, box(5))\n",
    "io.imshow(I2)"
   ]
  },
  {
   "cell_type": "code",
   "execution_count": null,
   "id": "4b31c329",
   "metadata": {},
   "outputs": [],
   "source": [
    "%%time\n",
    "I3 = alphamean_filter(In, box(3), 0.45)\n",
    "io.imshow(I3)"
   ]
  },
  {
   "cell_type": "markdown",
   "id": "1a5c2f94",
   "metadata": {},
   "source": [
    "## Non-Linear Filter: Median (Min, Max, Percentile)"
   ]
  },
  {
   "cell_type": "code",
   "execution_count": null,
   "id": "1931b63b",
   "metadata": {},
   "outputs": [],
   "source": [
    "def median_filter(I, kernel):\n",
    "    Ip = np.empty_like(I)\n",
    "    \n",
    "    h1 = kernel.shape[0]; h0 = h1 // 2;\n",
    "    w1 = kernel.shape[1]; w0 = w1 // 2;\n",
    "    \n",
    "    Iz = np.pad(I, ((h0,h0),(w0,w0)), mode='reflect')\n",
    "    \n",
    "    for u in np.arange(0, I.shape[0]):\n",
    "        for v in np.arange(0, I.shape[1]):\n",
    "            values = Iz[u:u+h1, v:v+w1]\n",
    "            values = np.extract(0.0 < kernel, values)\n",
    "            Ip[u][v] = np.median(values)\n",
    "            \n",
    "    return Ip"
   ]
  },
  {
   "cell_type": "code",
   "execution_count": null,
   "id": "ba6d5c18",
   "metadata": {
    "scrolled": false
   },
   "outputs": [],
   "source": [
    "I2 = median_filter(In, box(3))\n",
    "io.imshow(I2)"
   ]
  },
  {
   "cell_type": "markdown",
   "id": "fc2e02f7",
   "metadata": {},
   "source": [
    "## Non-Linear Filter: Gradient"
   ]
  },
  {
   "cell_type": "code",
   "execution_count": null,
   "id": "43974fb3",
   "metadata": {},
   "outputs": [],
   "source": [
    "def gradient_filter(I, kernel):\n",
    "    Ip = np.empty_like(I)\n",
    "    \n",
    "    h1 = kernel.shape[0]; h0 = h1 // 2;\n",
    "    w1 = kernel.shape[1]; w0 = w1 // 2;\n",
    "    \n",
    "    Iz = np.pad(I, ((h0,h0),(w0,w0)), mode='reflect')\n",
    "    \n",
    "    for u in np.arange(0, I.shape[0]):\n",
    "        for v in np.arange(0, I.shape[1]):\n",
    "            values = Iz[u:u+h1, v:v+w1]\n",
    "            value = np.extract(0.0 < kernel, values)\n",
    "            Ip[u][v] = np.max(values) - np.min(values)\n",
    "            \n",
    "    return Ip"
   ]
  },
  {
   "cell_type": "code",
   "execution_count": null,
   "id": "6eed443a",
   "metadata": {
    "scrolled": true
   },
   "outputs": [],
   "source": [
    "I2 = gradient_filter(I1, box(3))\n",
    "io.imshow(I2)"
   ]
  },
  {
   "cell_type": "markdown",
   "id": "fdb440c1",
   "metadata": {},
   "source": [
    "## Non-Linear Filter: SKImage \n",
    "\n",
    "See //https://scikit-image.org/docs/stable/api/skimage.filters.rank for a list of nonlinear skimage filters. The ones shown below are merely an appetizer."
   ]
  },
  {
   "cell_type": "markdown",
   "id": "850f6a11",
   "metadata": {},
   "source": [
    "Arithmetic mean: $\\frac{1}{n} \\sum_{i=1}^n x_i$\n",
    "\n",
    "Geometric mean: $\\sqrt[n]{x_1 x_2 \\cdots x_n}$"
   ]
  },
  {
   "cell_type": "code",
   "execution_count": null,
   "id": "d4b1b477",
   "metadata": {},
   "outputs": [],
   "source": [
    "I2 = rank.geometric_mean(I1, disk(3)) # n-root(n-value product)\n",
    "io.imshow(I2)"
   ]
  },
  {
   "cell_type": "markdown",
   "id": "8623130d",
   "metadata": {},
   "source": [
    "Entropy: $0 \\leq - \\sum_{i=1}^{n} p_i \\log p_i \\leq \\log n$"
   ]
  },
  {
   "cell_type": "code",
   "execution_count": null,
   "id": "bb852f5d",
   "metadata": {},
   "outputs": [],
   "source": [
    "I2 = rank.entropy(I1, box(3)) # local entropy\n",
    "I2 /= np.log2(9)              # normalize to 0:1 range\n",
    "#I2 = np.where(I2 < 0.75, 0.0, 1.0)  # threshold\n",
    "io.imshow(I2)"
   ]
  },
  {
   "cell_type": "code",
   "execution_count": null,
   "id": "06ab1e29",
   "metadata": {
    "scrolled": false
   },
   "outputs": [],
   "source": [
    "I2 = rank.majority(I1, disk(3)) # most common local value\n",
    "io.imshow(I2)"
   ]
  },
  {
   "cell_type": "code",
   "execution_count": null,
   "id": "96f9562f",
   "metadata": {},
   "outputs": [],
   "source": [
    "I2 = rank.enhance_contrast(I1, disk(3)) # use closest local min/max value\n",
    "io.imshow(I2)"
   ]
  }
 ],
 "metadata": {
  "kernelspec": {
   "display_name": "Python 3 (ipykernel)",
   "language": "python",
   "name": "python3"
  },
  "language_info": {
   "codemirror_mode": {
    "name": "ipython",
    "version": 3
   },
   "file_extension": ".py",
   "mimetype": "text/x-python",
   "name": "python",
   "nbconvert_exporter": "python",
   "pygments_lexer": "ipython3",
   "version": "3.9.15"
  }
 },
 "nbformat": 4,
 "nbformat_minor": 5
}
