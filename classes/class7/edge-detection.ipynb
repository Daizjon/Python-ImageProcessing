{
 "cells": [
  {
   "cell_type": "markdown",
   "id": "419560c8",
   "metadata": {},
   "source": [
    "# Image Filtering: Spatial Methods"
   ]
  },
  {
   "cell_type": "code",
   "execution_count": null,
   "id": "4aa59009",
   "metadata": {},
   "outputs": [],
   "source": [
    "%matplotlib inline\n",
    "\n",
    "import numpy as np\n",
    "\n",
    "import matplotlib.image as img\n",
    "import matplotlib.pyplot as plt\n",
    "\n",
    "from skimage import io\n",
    "from skimage.filters import sobel\n",
    "from skimage.feature import canny\n",
    "from skimage import exposure\n",
    "from skimage.util import img_as_float32 as img_as_float"
   ]
  },
  {
   "cell_type": "code",
   "execution_count": null,
   "id": "1945f0f4",
   "metadata": {},
   "outputs": [],
   "source": [
    "def print_imginfo(I):\n",
    "    print(type(I))\n",
    "    print(I.shape, I.dtype)\n",
    "    print('Data range:', np.min(I), 'to', np.max(I))"
   ]
  },
  {
   "cell_type": "code",
   "execution_count": null,
   "id": "dd34bfad",
   "metadata": {},
   "outputs": [],
   "source": [
    "def show_images(I, titles=None):\n",
    "    fig, ax = plt.subplots(1, len(I), figsize=(12,12))\n",
    "    \n",
    "    for i in np.arange(0,len(I)):\n",
    "        ax[i].imshow(I[i], cmap='gray')\n",
    "        ax[i].set_axis_off()\n",
    "        if titles != None:\n",
    "            ax[i].set_title(titles[i])"
   ]
  },
  {
   "cell_type": "code",
   "execution_count": null,
   "id": "46a8cb1f",
   "metadata": {
    "scrolled": false
   },
   "outputs": [],
   "source": [
    "I1 = io.imread(\"../../images/blobs.png\", as_gray=True)\n",
    "#I1 = io.imread(\"../../images/bikes.jpg\", as_gray=True)\n",
    "I1 = img_as_float(I1)\n",
    "\n",
    "I2 = sobel(I1)\n",
    "I2 = exposure.rescale_intensity(I2, in_range=(0.0,0.30))\n",
    "plt.hist(I2.ravel(), bins=256, range=(0.01,0.99))\n",
    "\n",
    "show_images([I1, I2],['Original','Sobel'])"
   ]
  },
  {
   "cell_type": "markdown",
   "id": "dac985e7",
   "metadata": {},
   "source": [
    "## Edge Detection: Canny"
   ]
  },
  {
   "cell_type": "code",
   "execution_count": null,
   "id": "7460f4d9",
   "metadata": {
    "scrolled": false
   },
   "outputs": [],
   "source": [
    "sigma_values = [0.5, 1/np.sqrt(2), 1.0, np.sqrt(2), 2.0, 3.0]\n",
    "sigma = sigma_values[1]\n",
    "\n",
    "low = 0.10\n",
    "high = [0.10, 0.50]\n",
    "\n",
    "C1 = canny(I1, sigma=sigma, low_threshold=low, high_threshold=high[0])\n",
    "C2 = canny(I1, sigma=sigma, low_threshold=low, high_threshold=high[1])\n",
    "\n",
    "T1 = 'Canny s=%.2f, t=[%.2f,%.2f]' % (sigma, low, high[0])\n",
    "T2 = 'Canny s=%.2f, t=[%.2f,%.2f]' % (sigma, low, high[1])\n",
    "\n",
    "show_images([C1, C2],[T1, T2])"
   ]
  }
 ],
 "metadata": {
  "kernelspec": {
   "display_name": "Python 3 (ipykernel)",
   "language": "python",
   "name": "python3"
  },
  "language_info": {
   "codemirror_mode": {
    "name": "ipython",
    "version": 3
   },
   "file_extension": ".py",
   "mimetype": "text/x-python",
   "name": "python",
   "nbconvert_exporter": "python",
   "pygments_lexer": "ipython3",
   "version": "3.9.15"
  }
 },
 "nbformat": 4,
 "nbformat_minor": 5
}
