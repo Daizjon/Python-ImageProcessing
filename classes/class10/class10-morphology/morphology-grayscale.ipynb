{
 "cells": [
  {
   "cell_type": "markdown",
   "id": "419560c8",
   "metadata": {},
   "source": [
    "# Morphology: Grayscale Methods"
   ]
  },
  {
   "cell_type": "code",
   "execution_count": null,
   "id": "4aa59009",
   "metadata": {},
   "outputs": [],
   "source": [
    "%matplotlib inline\n",
    "\n",
    "import numpy as np\n",
    "\n",
    "import matplotlib.image as img\n",
    "import matplotlib.pyplot as plt\n",
    "\n",
    "from skimage import io\n",
    "from skimage.filters import threshold_otsu\n",
    "from skimage.util import img_as_ubyte, invert\n",
    "\n",
    "from skimage.morphology import disk, square\n",
    "from skimage.morphology import dilation, erosion\n",
    "from skimage.morphology import opening, closing"
   ]
  },
  {
   "cell_type": "code",
   "execution_count": null,
   "id": "d9a6ffef",
   "metadata": {},
   "outputs": [],
   "source": [
    "def show_images(I, titles=None):\n",
    "    fig, ax = plt.subplots(1, len(I), figsize=(10,10))\n",
    "    \n",
    "    for i in np.arange(0,len(I)):\n",
    "        ax[i].imshow(I[i], cmap='gray')\n",
    "        ax[i].set_axis_off()\n",
    "        if titles != None:\n",
    "            ax[i].set_title(titles[i])"
   ]
  },
  {
   "cell_type": "code",
   "execution_count": null,
   "id": "de98afa1",
   "metadata": {
    "scrolled": false
   },
   "outputs": [],
   "source": [
    "I1 = io.imread(\"../../images/rice_grains.png\", as_gray=True)\n",
    "I1 = img_as_ubyte(I1)\n",
    "\n",
    "B1 = np.where(I1<threshold_otsu(I1), False, True)\n",
    "\n",
    "show_images([I1, B1], ['Original','Thresholded'])"
   ]
  },
  {
   "cell_type": "markdown",
   "id": "907236e9",
   "metadata": {},
   "source": [
    "## Dilation and Erosion: Max and Min Filtering"
   ]
  },
  {
   "cell_type": "code",
   "execution_count": null,
   "id": "59b531fd",
   "metadata": {
    "scrolled": true
   },
   "outputs": [],
   "source": [
    "SE = disk(9)\n",
    "\n",
    "ID = dilation(I1, SE)\n",
    "IE = erosion(I1, SE)\n",
    "\n",
    "show_images([ID, IE], ['Dilation','Erosion'])"
   ]
  },
  {
   "cell_type": "markdown",
   "id": "e36a623e",
   "metadata": {},
   "source": [
    "## Opening and Closing: Maxmin and Minmax Filtering"
   ]
  },
  {
   "cell_type": "code",
   "execution_count": null,
   "id": "91fe770a",
   "metadata": {},
   "outputs": [],
   "source": [
    "SE = disk(9)\n",
    "\n",
    "IO = opening(I1, SE)\n",
    "IC = closing(I1, SE)\n",
    "\n",
    "show_images([IO, IC], ['Opening','Closing'])"
   ]
  },
  {
   "cell_type": "markdown",
   "id": "2caa4371",
   "metadata": {},
   "source": [
    "## Top-Hat Transformation: Shading Correction"
   ]
  },
  {
   "cell_type": "code",
   "execution_count": null,
   "id": "901c6e7c",
   "metadata": {
    "scrolled": false
   },
   "outputs": [],
   "source": [
    "SE = disk(30)\n",
    "\n",
    "TH = np.subtract(I1, opening(I1, SE))\n",
    "BH = np.where(TH<threshold_otsu(TH), False, True)\n",
    "\n",
    "show_images([TH, BH], ['Top Hat Transformation','Thresholded'])"
   ]
  },
  {
   "cell_type": "markdown",
   "id": "159fe9ed",
   "metadata": {},
   "source": [
    "## Opening and Closing: Textural Segmentation"
   ]
  },
  {
   "cell_type": "code",
   "execution_count": null,
   "id": "ad3919f1",
   "metadata": {
    "scrolled": false
   },
   "outputs": [],
   "source": [
    "# Binary image\n",
    "\n",
    "I2 = io.imread(\"../../images/blob_mixture.gif\", as_gray=True)\n",
    "I2 = invert(img_as_ubyte(I2))\n",
    "\n",
    "B2 = np.where(I2<threshold_otsu(I2), False, True)\n",
    "\n",
    "O2 = opening(B2, disk(35)) # remove small blobs\n",
    "C2 = closing(O2, disk(60)) # fill in between large blobs\n",
    "\n",
    "GD = dilation(C2, square(5))\n",
    "GE = erosion(C2, square(5))\n",
    "\n",
    "G2 = np.bitwise_xor(GD, GE)\n",
    "G2 = img_as_ubyte(G2)\n",
    "\n",
    "R2 = np.bitwise_or(I2, G2)\n",
    "\n",
    "show_images([B2, O2], ['Original','Opening'])\n",
    "show_images([C2, R2], ['Closing','Gradient'])"
   ]
  },
  {
   "cell_type": "code",
   "execution_count": null,
   "id": "d4379de6",
   "metadata": {},
   "outputs": [],
   "source": [
    "# Grayscale image\n",
    "\n",
    "O2 = opening(I2, disk(35)) # remove small blobs\n",
    "C2 = closing(O2, disk(60)) # fill in between large blobs\n",
    "\n",
    "GD = dilation(C2, square(5))\n",
    "GE = erosion(C2, square(5))\n",
    "\n",
    "G2 = np.subtract(GD, GE)\n",
    "G2 = img_as_ubyte(G2)\n",
    "G2 = np.where(G2<48, 0, 255)\n",
    "\n",
    "R2 = np.bitwise_or(I2, G2)\n",
    "\n",
    "show_images([I2, O2], ['Original','Opening'])\n",
    "show_images([C2, R2], ['Closing','Gradient'])"
   ]
  }
 ],
 "metadata": {
  "kernelspec": {
   "display_name": "Python 3 (ipykernel)",
   "language": "python",
   "name": "python3"
  },
  "language_info": {
   "codemirror_mode": {
    "name": "ipython",
    "version": 3
   },
   "file_extension": ".py",
   "mimetype": "text/x-python",
   "name": "python",
   "nbconvert_exporter": "python",
   "pygments_lexer": "ipython3",
   "version": "3.9.15"
  }
 },
 "nbformat": 4,
 "nbformat_minor": 5
}
