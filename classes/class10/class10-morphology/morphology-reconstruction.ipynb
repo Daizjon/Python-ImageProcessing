{
 "cells": [
  {
   "cell_type": "markdown",
   "id": "419560c8",
   "metadata": {},
   "source": [
    "# Morphology: Binary Methods"
   ]
  },
  {
   "cell_type": "code",
   "execution_count": null,
   "id": "4aa59009",
   "metadata": {},
   "outputs": [],
   "source": [
    "%matplotlib inline\n",
    "\n",
    "import time\n",
    "\n",
    "import numpy as np\n",
    "\n",
    "import matplotlib.image as img\n",
    "import matplotlib.pyplot as plt\n",
    "\n",
    "from skimage import io\n",
    "from skimage.util import img_as_ubyte, img_as_bool, invert\n",
    "\n",
    "from skimage.morphology import disk, square\n",
    "from skimage.morphology import binary_dilation\n",
    "from skimage.morphology import reconstruction"
   ]
  },
  {
   "cell_type": "code",
   "execution_count": null,
   "id": "d9a6ffef",
   "metadata": {},
   "outputs": [],
   "source": [
    "def show_image(I, N=10, M=10):\n",
    "    fig, ax = plt.subplots(1, 1, figsize=(N,M))\n",
    "    ax.imshow(I, cmap='gray')\n",
    "    ax.set_axis_off()"
   ]
  },
  {
   "cell_type": "markdown",
   "id": "2cf5707f",
   "metadata": {},
   "source": [
    "## Reconstruction: Hole Filling"
   ]
  },
  {
   "cell_type": "code",
   "execution_count": null,
   "id": "de98afa1",
   "metadata": {
    "scrolled": true
   },
   "outputs": [],
   "source": [
    "I1 = io.imread(\"../../images/text.gif\", as_gray=True)\n",
    "I1 = img_as_ubyte(I1)\n",
    "\n",
    "B1 = np.where(I1<220, True, False)\n",
    "# B1 = binary_dilation(B1)\n",
    "\n",
    "show_image(B1)"
   ]
  },
  {
   "cell_type": "markdown",
   "id": "a4efb236",
   "metadata": {},
   "source": [
    "## Reconstruction: Hole Filling"
   ]
  },
  {
   "cell_type": "code",
   "execution_count": null,
   "id": "130c1e59",
   "metadata": {
    "scrolled": true
   },
   "outputs": [],
   "source": [
    "SE = disk(1)\n",
    "\n",
    "G = invert(B1)\n",
    "F0 = np.copy(G)\n",
    "\n",
    "K = 1\n",
    "F0[K:-K,K:-K] = 0\n",
    "\n",
    "Fk = reconstruction(F0, G, method='dilation', footprint=SE)\n",
    "Fk = invert(img_as_bool(Fk))\n",
    "\n",
    "show_image(Fk)"
   ]
  },
  {
   "cell_type": "markdown",
   "id": "f69449ab",
   "metadata": {},
   "source": [
    "## Reconstruction: Border Clearing"
   ]
  },
  {
   "cell_type": "code",
   "execution_count": null,
   "id": "68932f44",
   "metadata": {
    "scrolled": false
   },
   "outputs": [],
   "source": [
    "I2 = io.imread(\"../../images/blobs.png\", as_gray=True)\n",
    "I2 = img_as_ubyte(I2[0:100,])\n",
    "\n",
    "B2 = np.where(I2<128, False, True)\n",
    "\n",
    "show_image(B2, 6, 6)"
   ]
  },
  {
   "cell_type": "code",
   "execution_count": null,
   "id": "d06f2ae4",
   "metadata": {},
   "outputs": [],
   "source": [
    "SE = disk(1)\n",
    "\n",
    "G = np.copy(B2)\n",
    "F0 = np.copy(G)\n",
    "\n",
    "K = 1\n",
    "F0[K:-K,K:-K] = 0\n",
    "\n",
    "Fk = reconstruction(F0, G, method='dilation', footprint=SE)\n",
    "Fk = np.bitwise_and(B2, invert(img_as_bool(Fk)))\n",
    "\n",
    "show_image(Fk, 6, 6)"
   ]
  }
 ],
 "metadata": {
  "kernelspec": {
   "display_name": "Python 3 (ipykernel)",
   "language": "python",
   "name": "python3"
  },
  "language_info": {
   "codemirror_mode": {
    "name": "ipython",
    "version": 3
   },
   "file_extension": ".py",
   "mimetype": "text/x-python",
   "name": "python",
   "nbconvert_exporter": "python",
   "pygments_lexer": "ipython3",
   "version": "3.9.15"
  }
 },
 "nbformat": 4,
 "nbformat_minor": 5
}
