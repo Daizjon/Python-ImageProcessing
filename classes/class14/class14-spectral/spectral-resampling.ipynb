{
 "cells": [
  {
   "cell_type": "markdown",
   "id": "419560c8",
   "metadata": {},
   "source": [
    "# Spectral Filtering: Image Resampling"
   ]
  },
  {
   "cell_type": "code",
   "execution_count": null,
   "id": "4aa59009",
   "metadata": {},
   "outputs": [],
   "source": [
    "%matplotlib inline\n",
    "\n",
    "import numpy as np\n",
    "\n",
    "import matplotlib.image as img\n",
    "import matplotlib.pyplot as plt\n",
    "\n",
    "from scipy.fft import fft2, ifft2, fftshift\n",
    "from scipy.interpolate import interpn\n",
    "\n",
    "from skimage import io, exposure\n",
    "from skimage.filters import gaussian\n",
    "from skimage.util import img_as_float32 as img_as_float"
   ]
  },
  {
   "cell_type": "code",
   "execution_count": null,
   "id": "c2710222",
   "metadata": {},
   "outputs": [],
   "source": [
    "def show_image(I, title=None):\n",
    "    dpi = 80.0\n",
    "    h, w = I.shape[0]/dpi, I.shape[1]/dpi\n",
    "    fig, ax = plt.subplots(1, 1, figsize=(w,h))        \n",
    "\n",
    "    ax.imshow(I, cmap='gray')\n",
    "    if title != None:\n",
    "        ax.set_title(title)"
   ]
  },
  {
   "cell_type": "code",
   "execution_count": null,
   "id": "d787e2a5",
   "metadata": {},
   "outputs": [],
   "source": [
    "def nextpow2(N):\n",
    "    n = 1\n",
    "    while (n<N):\n",
    "        n *= 2\n",
    "    return n"
   ]
  },
  {
   "cell_type": "code",
   "execution_count": null,
   "id": "90291d84",
   "metadata": {},
   "outputs": [],
   "source": [
    "I1 = io.imread(\"../../images/cars.jpg\", as_gray=True)\n",
    "I1 = img_as_float(I1)"
   ]
  },
  {
   "cell_type": "code",
   "execution_count": null,
   "id": "438d2cf3",
   "metadata": {},
   "outputs": [],
   "source": [
    "M, N = I1.shape\n",
    "M2 = nextpow2(M)\n",
    "N2 = nextpow2(N)"
   ]
  },
  {
   "cell_type": "markdown",
   "id": "c042de00",
   "metadata": {},
   "source": [
    "## Downsampling: Anti-Aliasing + Decimation"
   ]
  },
  {
   "cell_type": "code",
   "execution_count": null,
   "id": "0c830c6b",
   "metadata": {
    "scrolled": true
   },
   "outputs": [],
   "source": [
    "I0 = I1\n",
    "I0 = gaussian(I0, sigma=2.0)\n",
    "I0 = I0[0:M:2,0:N:2]\n",
    "\n",
    "show_image(I0)"
   ]
  },
  {
   "cell_type": "markdown",
   "id": "4e32a1f0",
   "metadata": {},
   "source": [
    "## Upsampling: FFT Zero-Padding + Scaling"
   ]
  },
  {
   "cell_type": "code",
   "execution_count": null,
   "id": "d663def2",
   "metadata": {
    "scrolled": false
   },
   "outputs": [],
   "source": [
    "I0 = I1\n",
    "#I0 = gaussian(I1, sigma=0.7071)\n",
    "\n",
    "F1 = fft2(I0,(M2,N2))\n",
    "\n",
    "ZM, ZN = (M2//2, N2//2)\n",
    "\n",
    "F2 = fftshift(F1)\n",
    "F2 = np.pad(F2, ((ZM,ZM),(ZN,ZN)))\n",
    "F2 = fftshift(F2)\n",
    "\n",
    "F2 *= np.prod(np.divide(F2.shape, F1.shape))\n",
    "\n",
    "I2 = np.real(ifft2(F2))\n",
    "I2 = I2[:2*M,:2*N]\n",
    "I2 = np.clip(I2, 0, 1)\n",
    "\n",
    "show_image(I1)\n",
    "show_image(I2)"
   ]
  },
  {
   "cell_type": "markdown",
   "id": "8ea01825",
   "metadata": {},
   "source": [
    "## Upsampling:  Arbitrary Scalar\n",
    "\n",
    "Method: upsample, apply anti-aliasing filter, downsample. Example below shows $\\uparrow 3$ implemented as $\\uparrow 4$ followed by $\\downarrow 4/3$."
   ]
  },
  {
   "cell_type": "code",
   "execution_count": null,
   "id": "e5a48b63",
   "metadata": {},
   "outputs": [],
   "source": [
    "# SU is upsampling factor\n",
    "# S1 is nextpower2(SU): SU <= S1\n",
    "# S2 is rational number: SU = S1/S2\n",
    "SU = 3\n",
    "S1 = 4\n",
    "S2 = 4/3\n",
    "\n",
    "# Compute fft2(I1) size (M2,N2)\n",
    "# M2 is nextpower2(M)\n",
    "# N2 is nextpower2(N)\n",
    "F1 = fft2(I1,(M2,N2))\n",
    "\n",
    "# Pad to upsize: (X X/2) X (X/2 X)\n",
    "# Resulting spectrum: (S1*M2, S1*N2)\n",
    "ZM, ZN = np.int32((((S1-1)/2)*M2, ((S1-1)/2)*N2))\n",
    "\n",
    "F3 = fftshift(F1)\n",
    "F3 = np.pad(F3, ((ZM,ZM), (ZN,ZN)))\n",
    "F3 = fftshift(F3)\n",
    "\n",
    "# Compensate for amplitude reduction\n",
    "F3 *= np.prod(np.divide(F3.shape, F1.shape))\n",
    "\n",
    "# Extract S1 upsampled image I3\n",
    "M3, N3 = (S1*M, S1*N)\n",
    "\n",
    "I3 = np.real(ifft2(F3))\n",
    "I3 = I3[:M3,:N3]\n",
    "I3 = np.clip(I3, 0, 1)\n",
    "         \n",
    "# Apply anti-aliasing filter\n",
    "I3 = gaussian(I3, sigma=2.0*S2)\n",
    "\n",
    "# Size of S2 downsampled image I4\n",
    "# NOTE: S1*X/S2 = SU*X\n",
    "M4, N4 = (SU*M, SU*N)\n",
    "\n",
    "# Extract S2 downsampled image I4\n",
    "u3, v3 =            (np.linspace(0,M3-1,M3), np.linspace(0,N3-1,N3))\n",
    "u4, v4 = np.meshgrid(np.linspace(0,M3-1,M4), np.linspace(0,N3-1,N4), indexing='ij')\n",
    "\n",
    "I4 = interpn((u3,v3), I3, (u4,v4), method='linear')\n",
    "\n",
    "print('Original image: ', I1.shape)\n",
    "print('Upsamling x4:   ', I3.shape)\n",
    "print('Downsampling x3:', I4.shape)\n",
    "\n",
    "show_image(I4)"
   ]
  }
 ],
 "metadata": {
  "kernelspec": {
   "display_name": "Python 3 (ipykernel)",
   "language": "python",
   "name": "python3"
  },
  "language_info": {
   "codemirror_mode": {
    "name": "ipython",
    "version": 3
   },
   "file_extension": ".py",
   "mimetype": "text/x-python",
   "name": "python",
   "nbconvert_exporter": "python",
   "pygments_lexer": "ipython3",
   "version": "3.9.15"
  }
 },
 "nbformat": 4,
 "nbformat_minor": 5
}
