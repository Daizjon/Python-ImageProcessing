{
 "cells": [
  {
   "cell_type": "markdown",
   "id": "419560c8",
   "metadata": {},
   "source": [
    "# Spectral Filtering: 2D Butterworth\n",
    "\n",
    "For images, Butterworth filters are defined to be radial symmetric based on distances. That is, letting \n",
    "$d_0$ denote the cut-off frequency distance (-3dB) and $d_{uv} = \\sqrt{u^2+v^2}$ the Euclidean distance \n",
    "from $(0,0)$ to $(u,v)$, we can define\n",
    "$$H_{LP}(u,v) = \\dfrac{1}{\\sqrt{1 + \\left( d_{uv}/d_0 \\right)^{2n}}}.$$\n",
    "\n",
    "High-pass filter can be obtained from the low-pass filter: $H^2_{HP}(u,v) = 1-H^2_{LP}(u,v)$. Band-pass filter can be obtained from cascaded low and high-pass filters: $H_{BP}(u,v) = H_{LP}(u,v) H_{HP}(u,v)$.\n",
    "Band-stop filter can be obtained from band-pass filter: $H^2_{BS}(u,v) = 1-H^2_{BP}(u,v)$."
   ]
  },
  {
   "cell_type": "code",
   "execution_count": null,
   "id": "4aa59009",
   "metadata": {},
   "outputs": [],
   "source": [
    "%matplotlib inline\n",
    "\n",
    "import numpy as np\n",
    "\n",
    "import matplotlib.image as img\n",
    "import matplotlib.pyplot as plt\n",
    "\n",
    "from skimage import io, exposure\n",
    "from skimage.filters import gaussian, window\n",
    "\n",
    "from scipy.fft import fft2, ifft2, fftshift\n",
    "\n",
    "from skimage.util import random_noise\n",
    "from skimage.util import img_as_float32 as img_as_float"
   ]
  },
  {
   "cell_type": "code",
   "execution_count": null,
   "id": "c2710222",
   "metadata": {},
   "outputs": [],
   "source": [
    "def show_images(I, titles=None):\n",
    "    fig, ax = plt.subplots(1, len(I), figsize=(12,5))        \n",
    " \n",
    "    for i in np.arange(0,len(I)):\n",
    "        ax[i].imshow(I[i], cmap='gray')\n",
    "        ax[i].set_axis_off()\n",
    "        if titles != None:\n",
    "            ax[i].set_title(titles[i])\n",
    "        \n",
    "    plt.tight_layout()"
   ]
  },
  {
   "cell_type": "code",
   "execution_count": null,
   "id": "40f5e65d",
   "metadata": {},
   "outputs": [],
   "source": [
    "def show_plots(I, titles=None):\n",
    "    fig, ax = plt.subplots(1, len(I), figsize=(12,1))\n",
    " \n",
    "    for i in np.arange(0,len(I)):\n",
    "        if titles != None:\n",
    "            ax[i].set_title(titles[i])\n",
    "        \n",
    "        r = I[i].shape[0]//2\n",
    "        ax[i].plot(I[i][r,:])\n",
    "        ax[i].set_xticks([])\n",
    "        ax[i].set_yticks([])\n",
    "        \n",
    "    plt.tight_layout()"
   ]
  },
  {
   "cell_type": "code",
   "execution_count": null,
   "id": "b6295001",
   "metadata": {
    "scrolled": true
   },
   "outputs": [],
   "source": [
    "def bwLP(d0, n, M, N=None):  \n",
    "    if N == None:\n",
    "        N = M\n",
    "    KM, KN = (M//2, N//2)\n",
    "    u, v = np.mgrid[-KM:KM,-KN:KN]\n",
    "    \n",
    "    duv = np.hypot(u, v)\n",
    "    H = 1/np.sqrt(1+(duv/d0)**(2*n))\n",
    "    return fftshift(H)\n",
    "\n",
    "def bwHP(d0, n, M, N=None):\n",
    "    if N == None:\n",
    "        N = M\n",
    "    LP = bwLP(d0, n, M, N)\n",
    "    return np.sqrt(1-LP**2)\n",
    "\n",
    "def bwBP(d1, n1, d2, n2, M, N=None):\n",
    "    if N == None:\n",
    "        N = M\n",
    "    LP = bwLP(d2, n2, M, N)\n",
    "    HP = bwHP(d1, n1, M, N)\n",
    "    return LP*HP\n",
    "\n",
    "def bwBS(d1, n1, d2, n2, M, N=None):\n",
    "    if N == None:\n",
    "        N = M\n",
    "    BP = bwBP(d1, n1, d2, n2, M, N)\n",
    "    return np.sqrt(1-BP**2)"
   ]
  },
  {
   "cell_type": "code",
   "execution_count": null,
   "id": "65050d22",
   "metadata": {
    "scrolled": true
   },
   "outputs": [],
   "source": [
    "N = 256\n",
    "\n",
    "(d0, n0) = (24, 6)\n",
    "(d1, n1) = (24, 4)\n",
    "(d2, n2) = (40, 6)\n",
    "\n",
    "LP = fftshift(bwLP(d0, n0, N))\n",
    "HP = fftshift(bwHP(d0, n0, N))\n",
    "BP = fftshift(bwBP(d1, n1, d2, n2, N))\n",
    "BS = fftshift(bwBS(d1, n1, d2, n2, N))\n",
    "\n",
    "show_images([np.real(LP), np.real(HP), np.real(BP), np.real(BS)],\n",
    "            ['Low-Pass','High-Pass','Band-Pass','Band-Stop'])\n",
    "show_plots([np.real(LP), np.real(HP), np.real(BP), np.real(BS)])"
   ]
  },
  {
   "cell_type": "markdown",
   "id": "fe552b8b",
   "metadata": {},
   "source": [
    "## Example 1: Image Filtering"
   ]
  },
  {
   "cell_type": "code",
   "execution_count": null,
   "id": "d787e2a5",
   "metadata": {},
   "outputs": [],
   "source": [
    "def nextpow2(N):\n",
    "    n = 1\n",
    "    while (n<N):\n",
    "        n *= 2\n",
    "    return n"
   ]
  },
  {
   "cell_type": "code",
   "execution_count": null,
   "id": "90291d84",
   "metadata": {},
   "outputs": [],
   "source": [
    "I1 = io.imread(\"../../images/zebras.jpg\", as_gray=True)\n",
    "I1 = img_as_float(I1)"
   ]
  },
  {
   "cell_type": "code",
   "execution_count": null,
   "id": "934bd2f7",
   "metadata": {
    "scrolled": true
   },
   "outputs": [],
   "source": [
    "M, N = I1.shape\n",
    "\n",
    "N2 = np.max([nextpow2(N), nextpow2(M)])\n",
    "\n",
    "F1 = fft2(I1,(N2,N2))\n",
    "G1 = F1*bwLP(200, 6, N2)\n",
    "\n",
    "I2 = np.real(ifft2(G1))[:M,:N]\n",
    "\n",
    "show_images([I1, exposure.adjust_log(np.abs(fftshift(F1)))], ['Image', 'FFT: |F|]'])\n",
    "show_images([I2, exposure.adjust_log(np.abs(fftshift(G1)))], ['Filtered Image', 'FFT: |FH|'])"
   ]
  },
  {
   "cell_type": "markdown",
   "id": "91916b96",
   "metadata": {},
   "source": [
    "## Example 2: Image Filtering"
   ]
  },
  {
   "cell_type": "code",
   "execution_count": null,
   "id": "b1799748",
   "metadata": {
    "scrolled": false
   },
   "outputs": [],
   "source": [
    "In = random_noise(np.zeros_like(I1), mode='gaussian', clip=False)\n",
    "\n",
    "Fn = fft2(In, (N2,N2))\n",
    "Fn = Fn*bwHP(300, 6, N2)\n",
    "\n",
    "In = np.real(ifft2(Fn))[:M,:N]\n",
    "Ic = I1 + 0.75*In\n",
    "\n",
    "Fc = fft2(Ic, (N2,N2))\n",
    "G2 = Fc*bwLP(256, 6, N2)\n",
    "\n",
    "I2 = np.real(ifft2(G2))[:M,:N]\n",
    "\n",
    "show_images([In, exposure.adjust_log(np.abs(fftshift(Fn)))], ['Noise','FFT: |Noise|'])\n",
    "show_images([Ic, exposure.adjust_log(np.abs(fftshift(Fc)))], ['Corrupted Image','FFT: |F|'])\n",
    "show_images([I2, exposure.adjust_log(np.abs(fftshift(G2)))], ['Filtered Image','FFT: |FH|'])"
   ]
  },
  {
   "cell_type": "markdown",
   "id": "6926d637",
   "metadata": {},
   "source": [
    "## Example 3: Separating Signals"
   ]
  },
  {
   "cell_type": "code",
   "execution_count": null,
   "id": "55c865c6",
   "metadata": {},
   "outputs": [],
   "source": [
    "def sinewaves(M, N, ku, kv):\n",
    "    T = 2.0*np.pi\n",
    "    \n",
    "    KM, KN = (M//2, N//2)\n",
    "    u, v = np.mgrid[-KM:KM,-KN:KN]\n",
    "    \n",
    "    I = np.sin(T*(u*ku/M+v*kv/N))\n",
    "    \n",
    "    return I"
   ]
  },
  {
   "cell_type": "code",
   "execution_count": null,
   "id": "9002a40a",
   "metadata": {},
   "outputs": [],
   "source": [
    "#print(M,N,N2)\n",
    "\n",
    "fu, fv = (100, 200)\n",
    "duv = np.hypot(fu, fv)\n",
    "\n",
    "In = 0.25*sinewaves(M, N, (fu*M)/N2, (fv*N)/N2)\n",
    "Fn = fft2(In, (N2,N2))\n",
    "\n",
    "Ic = I1 + 0.75*In*window('hamming', In.shape)\n",
    "\n",
    "Fc = fft2(Ic, (N2,N2))\n",
    "G2 = Fc*bwBS(duv-50, 12, duv+50, 12, N2)\n",
    "\n",
    "I2 = np.real(ifft2(G2))[:M,:N]\n",
    "\n",
    "#show_images([In, np.abs(fftshift(Fn))], ['Noise','FFT: |Noise|'])\n",
    "show_images([In, exposure.adjust_log(np.abs(fftshift(Fn)))], ['Noise','FFT: |Noise|'])\n",
    "show_images([Ic, exposure.adjust_log(np.abs(fftshift(Fc)))], ['Corrupted Image','FFT: |F|'])\n",
    "show_images([I2, exposure.adjust_log(np.abs(fftshift(G2)))], ['Filtered Image','FFT: |FH|'])"
   ]
  }
 ],
 "metadata": {
  "kernelspec": {
   "display_name": "Python 3 (ipykernel)",
   "language": "python",
   "name": "python3"
  },
  "language_info": {
   "codemirror_mode": {
    "name": "ipython",
    "version": 3
   },
   "file_extension": ".py",
   "mimetype": "text/x-python",
   "name": "python",
   "nbconvert_exporter": "python",
   "pygments_lexer": "ipython3",
   "version": "3.9.15"
  }
 },
 "nbformat": 4,
 "nbformat_minor": 5
}
