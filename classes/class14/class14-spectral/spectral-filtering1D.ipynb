{
 "cells": [
  {
   "cell_type": "markdown",
   "id": "419560c8",
   "metadata": {},
   "source": [
    "# Spectral Filtering: 1D Butterworth\n",
    "\n",
    "Filter with maximally flat passband. Designed for analog circuit implementation in 1930. Other filters produce faster roll-off but introduce ripple in the pass and/or stop-band.\n",
    "\n",
    "Low-pass filter given by\n",
    "$H_{LP}(u) = \\dfrac{1}{\\sqrt{1 + \\left( \\frac{u}{u_0} \\right)^{2n}}}$\n",
    "where $u_0$ denotes cut-off frequency (-3dB), and order $n$ controls slope of roll-off.\n",
    "\n",
    "High-pass filter can be obtained from low-pass filter: $H^2_{HP}(u) = 1-H^2_{LP}(u)$. Band-pass filter can be obtained from cascaded low and high-pass filters: $H_{BP}(u) = H_{LP}(u) H_{HP}(u)$.\n",
    "Band-stop filter can be obtained from band-pass filter: $H^2_{BS}(u) = 1-H^2_{BP}(u)$."
   ]
  },
  {
   "cell_type": "code",
   "execution_count": null,
   "id": "4aa59009",
   "metadata": {},
   "outputs": [],
   "source": [
    "%matplotlib inline\n",
    "\n",
    "import numpy as np\n",
    "\n",
    "import matplotlib.pyplot as plt\n",
    "\n",
    "from scipy import signal\n",
    "from scipy.fft import fft, ifft, fftshift"
   ]
  },
  {
   "cell_type": "code",
   "execution_count": null,
   "id": "92ebe033",
   "metadata": {},
   "outputs": [],
   "source": [
    "def plot(f, titles=None, show_kernel=False):\n",
    "    fig, ax = plt.subplots(1, len(f), figsize=(12,3))\n",
    "    \n",
    "    for i in np.arange(0, len(f)):\n",
    "        N = len(f[i])\n",
    "        \n",
    "        if show_kernel == False:\n",
    "            ax[i].plot(f[i])\n",
    "            ax[i].set_xticks(np.arange(0,N+1,N/8))\n",
    "        else:\n",
    "            K = N//2\n",
    "            ax[i].plot(np.arange(-K,K+1),f[i])\n",
    "            ax[i].set_xticks(np.arange(-K,K+1,K/4))\n",
    "            \n",
    "        ax[i].grid()\n",
    "        if titles != None:\n",
    "            ax[i].set_title(titles[i])               \n",
    "    \n",
    "    fig.tight_layout()"
   ]
  },
  {
   "cell_type": "code",
   "execution_count": null,
   "id": "b6295001",
   "metadata": {
    "scrolled": true
   },
   "outputs": [],
   "source": [
    "def bwLP(u0, n, N):  \n",
    "    u = np.arange(-N//2, N//2)\n",
    "    H = 1/np.sqrt(1+(u/u0)**(2*n))\n",
    "    return fftshift(H)\n",
    "\n",
    "def bwHP(u0, n, N):\n",
    "    LP = bwLP(u0, n, N)\n",
    "    return np.sqrt(1-LP**2)\n",
    "\n",
    "def bwBP(u1, n1, u2, n2, N):\n",
    "    LP = bwLP(u2, n2, N)\n",
    "    HP = bwHP(u1, n1, N)\n",
    "    return LP*HP\n",
    "\n",
    "def bwBS(u1, n1, u2, n2, N):\n",
    "    BP = bwBP(u1, n1, u2, n2, N)\n",
    "    return np.sqrt(1-BP**2)"
   ]
  },
  {
   "cell_type": "code",
   "execution_count": null,
   "id": "65050d22",
   "metadata": {
    "scrolled": false
   },
   "outputs": [],
   "source": [
    "N = 256\n",
    "\n",
    "(u0, n0) = (40, 8)\n",
    "(u1, n1) = (16, 12)\n",
    "(u2, n2) = (64, 12)\n",
    "\n",
    "LP = bwLP(u0, n0, N)\n",
    "HP = bwHP(u0, n0, N)\n",
    "BP = bwBP(u1, n1, u2, n2, N)\n",
    "BS = bwBS(u1, n1, u2, n2, N)\n",
    "\n",
    "plot([np.real(LP), np.real(HP)], ['Low-Pass','High-Pass'])\n",
    "plot([np.real(BP), np.real(BS)], ['Band-Pass','Band-Stop'])"
   ]
  },
  {
   "cell_type": "markdown",
   "id": "4e4a0713",
   "metadata": {},
   "source": [
    "## Example 1: Separating Signals"
   ]
  },
  {
   "cell_type": "code",
   "execution_count": null,
   "id": "bbe4b8f6",
   "metadata": {
    "scrolled": false
   },
   "outputs": [],
   "source": [
    "T = 2.0*np.pi\n",
    "\n",
    "x = np.arange(0, N)\n",
    "f = np.sin(4*T*x/N) + 0.5*np.sin(32*T*x/N)\n",
    "\n",
    "F = fft(f)\n",
    "\n",
    "G1 = F*bwLP(18, 8, N)\n",
    "g1 = np.real(ifft(G1))\n",
    "\n",
    "G2 = F*bwHP(18, 8, N)\n",
    "g2 = np.real(ifft(G2))\n",
    "\n",
    "plot([f, np.abs(F)], ['Signal','FFT: |F|)'])\n",
    "plot([g1, g2], ['LP Result','HP Result'])"
   ]
  },
  {
   "cell_type": "markdown",
   "id": "38822990",
   "metadata": {},
   "source": [
    "## Example 2: Suppressing Noise"
   ]
  },
  {
   "cell_type": "code",
   "execution_count": null,
   "id": "49d5e83e",
   "metadata": {
    "scrolled": false
   },
   "outputs": [],
   "source": [
    "f = np.sin(8*T*x/N)\n",
    "n = 0.25*np.random.standard_normal(N)\n",
    "f += n - np.sum(n)/N # make zero mean\n",
    "\n",
    "F = fft(f)\n",
    "H = bwLP(16, 8, N)\n",
    "\n",
    "G = F*H\n",
    "g = np.real(ifft(G))\n",
    "\n",
    "plot([f, g], ['Signal','LP Result'])\n",
    "plot([np.abs(F), np.abs(G)], ['FFT: |F|','FFT: |FH|'])"
   ]
  },
  {
   "cell_type": "markdown",
   "id": "24ca824c",
   "metadata": {},
   "source": [
    "## Example 3: Convolution Kernels"
   ]
  },
  {
   "cell_type": "code",
   "execution_count": null,
   "id": "6276e4d0",
   "metadata": {
    "scrolled": false
   },
   "outputs": [],
   "source": [
    "K = 10\n",
    "M = N//2\n",
    "\n",
    "h_low = fftshift(np.real(ifft(LP)))[M-K:M+K+1]    # sum == ?\n",
    "h_high = fftshift(np.real(ifft(HP)))[M-K:M+K+1]   # sum == ?\n",
    "h_pass = fftshift(np.real(ifft(BP)))[M-K:M+K+1]   # sum == ?\n",
    "h_stop = fftshift(np.real(ifft(BS)))[M-K:M+K+1]   # sum == ?\n",
    "\n",
    "\n",
    "plot([h_low, h_high],['Low-Pass','High-Pass'], show_kernel=True)\n",
    "plot([h_pass, h_stop],['Band-Pass','Band-Stop'], show_kernel=True)"
   ]
  }
 ],
 "metadata": {
  "kernelspec": {
   "display_name": "Python 3 (ipykernel)",
   "language": "python",
   "name": "python3"
  },
  "language_info": {
   "codemirror_mode": {
    "name": "ipython",
    "version": 3
   },
   "file_extension": ".py",
   "mimetype": "text/x-python",
   "name": "python",
   "nbconvert_exporter": "python",
   "pygments_lexer": "ipython3",
   "version": "3.9.15"
  }
 },
 "nbformat": 4,
 "nbformat_minor": 5
}
